{
 "cells": [
  {
   "cell_type": "markdown",
   "metadata": {},
   "source": [
    "### Day Objectives\n",
    "\n",
    "- Practice on Income Dataset\n",
    "\n",
    "    - Define functions for the following data points\n",
    "    \n",
    "         - Combined Average Income of all states from 2005 to 2013\n",
    "             - Answer = 48525\n",
    "         - State with highest average income in the last three years\n",
    "             - Answer = Alaska\n",
    "         - State with lowest average income from 2007 to 2010(inclusive)\n",
    "             - Answer = Arkanas\n",
    "         - Print the list of all states in the same line with average income less than California\n",
    "             - Answer = Alabama Arizona Arkanas\n",
    "         - Print the names of states based on descending order of income in the year 2009\n",
    "             - Answer = Alaska California Arizona Alabama Arkanas\n",
    "         - State with the lowest recorded income from 2005 to 2013\n",
    "             - Answer = Arkanas\n"
   ]
  },
  {
   "cell_type": "code",
   "execution_count": 88,
   "metadata": {},
   "outputs": [
    {
     "data": {
      "text/html": [
       "<div>\n",
       "<style scoped>\n",
       "    .dataframe tbody tr th:only-of-type {\n",
       "        vertical-align: middle;\n",
       "    }\n",
       "\n",
       "    .dataframe tbody tr th {\n",
       "        vertical-align: top;\n",
       "    }\n",
       "\n",
       "    .dataframe thead th {\n",
       "        text-align: right;\n",
       "    }\n",
       "</style>\n",
       "<table border=\"1\" class=\"dataframe\">\n",
       "  <thead>\n",
       "    <tr style=\"text-align: right;\">\n",
       "      <th></th>\n",
       "      <th>GEOID</th>\n",
       "      <th>State</th>\n",
       "      <th>2005</th>\n",
       "      <th>2006</th>\n",
       "      <th>2007</th>\n",
       "      <th>2008</th>\n",
       "      <th>2009</th>\n",
       "      <th>2010</th>\n",
       "      <th>2011</th>\n",
       "      <th>2012</th>\n",
       "      <th>2013</th>\n",
       "    </tr>\n",
       "  </thead>\n",
       "  <tbody>\n",
       "    <tr>\n",
       "      <th>0</th>\n",
       "      <td>04000US01</td>\n",
       "      <td>Alabama</td>\n",
       "      <td>37150</td>\n",
       "      <td>37952</td>\n",
       "      <td>42212</td>\n",
       "      <td>44476</td>\n",
       "      <td>39980</td>\n",
       "      <td>40933</td>\n",
       "      <td>42590</td>\n",
       "      <td>43464</td>\n",
       "      <td>41381</td>\n",
       "    </tr>\n",
       "    <tr>\n",
       "      <th>1</th>\n",
       "      <td>04000US02</td>\n",
       "      <td>Alaska</td>\n",
       "      <td>55891</td>\n",
       "      <td>56418</td>\n",
       "      <td>62993</td>\n",
       "      <td>63989</td>\n",
       "      <td>61604</td>\n",
       "      <td>57848</td>\n",
       "      <td>57431</td>\n",
       "      <td>63648</td>\n",
       "      <td>61137</td>\n",
       "    </tr>\n",
       "    <tr>\n",
       "      <th>2</th>\n",
       "      <td>04000US04</td>\n",
       "      <td>Arizona</td>\n",
       "      <td>45245</td>\n",
       "      <td>46657</td>\n",
       "      <td>62993</td>\n",
       "      <td>46914</td>\n",
       "      <td>45739</td>\n",
       "      <td>46896</td>\n",
       "      <td>48621</td>\n",
       "      <td>47044</td>\n",
       "      <td>50602</td>\n",
       "    </tr>\n",
       "    <tr>\n",
       "      <th>3</th>\n",
       "      <td>04000US05</td>\n",
       "      <td>Arkansas</td>\n",
       "      <td>36658</td>\n",
       "      <td>37057</td>\n",
       "      <td>40795</td>\n",
       "      <td>39586</td>\n",
       "      <td>36538</td>\n",
       "      <td>38587</td>\n",
       "      <td>41302</td>\n",
       "      <td>39018</td>\n",
       "      <td>39919</td>\n",
       "    </tr>\n",
       "    <tr>\n",
       "      <th>4</th>\n",
       "      <td>04000US06</td>\n",
       "      <td>California</td>\n",
       "      <td>51755</td>\n",
       "      <td>55319</td>\n",
       "      <td>55734</td>\n",
       "      <td>57014</td>\n",
       "      <td>56134</td>\n",
       "      <td>54283</td>\n",
       "      <td>53367</td>\n",
       "      <td>57020</td>\n",
       "      <td>57528</td>\n",
       "    </tr>\n",
       "  </tbody>\n",
       "</table>\n",
       "</div>"
      ],
      "text/plain": [
       "       GEOID       State   2005   2006   2007   2008   2009   2010   2011  \\\n",
       "0  04000US01     Alabama  37150  37952  42212  44476  39980  40933  42590   \n",
       "1  04000US02      Alaska  55891  56418  62993  63989  61604  57848  57431   \n",
       "2  04000US04     Arizona  45245  46657  62993  46914  45739  46896  48621   \n",
       "3  04000US05    Arkansas  36658  37057  40795  39586  36538  38587  41302   \n",
       "4  04000US06  California  51755  55319  55734  57014  56134  54283  53367   \n",
       "\n",
       "    2012   2013  \n",
       "0  43464  41381  \n",
       "1  63648  61137  \n",
       "2  47044  50602  \n",
       "3  39018  39919  \n",
       "4  57020  57528  "
      ]
     },
     "execution_count": 88,
     "metadata": {},
     "output_type": "execute_result"
    }
   ],
   "source": [
    "######## Function to read CSV data into a DataFrame\n",
    "# return the DataFrame object   csv(comma superated value)\n",
    "\n",
    "filepath = 'DataFiles/Income.csv'\n",
    "import pandas as pd\n",
    "\n",
    "def readCSVdata(filepath):\n",
    "    return pd.read_csv(filepath)\n",
    "\n",
    "readCSVdata(filepath)\n",
    "    \n"
   ]
  },
  {
   "cell_type": "code",
   "execution_count": 112,
   "metadata": {},
   "outputs": [
    {
     "name": "stdout",
     "output_type": "stream",
     "text": [
      "41126\n",
      "60106\n",
      "48967\n",
      "38828\n",
      "55350\n"
     ]
    }
   ],
   "source": [
    "1. ####### Function to Average Income of all states from 2005 2013\n",
    "\n",
    "incomedf = readCSVdata(filepath)\n",
    "filepath = 'DataFiles/Income.csv'\n",
    "def AverageIncome2005_to_13(df, filepath):\n",
    "\n",
    "    for i in range(len(df.values)):\n",
    "        sum = 0\n",
    "        count = 0\n",
    "        for j in range(2, len(df.columns)):\n",
    "            sum=sum+df.values[i][j]\n",
    "            count+=1\n",
    "#             s=s+sum\n",
    "        print(sum//count)     \n",
    "AverageIncome2005_to_13(incomedf, filepath)\n",
    "    \n",
    "    "
   ]
  },
  {
   "cell_type": "code",
   "execution_count": 37,
   "metadata": {},
   "outputs": [
    {
     "name": "stdout",
     "output_type": "stream",
     "text": [
      "{'Alabama': 42478, 'Alaska': 60738, 'Arizona': 48755, 'Arkansas': 40079, 'California': 55971}\n",
      "\n",
      "\n",
      "Alaska : 60738\n"
     ]
    }
   ],
   "source": [
    "2. ### Write a function to caluculate Highest income of last three years\n",
    "\n",
    "filepath = 'DataFiles/Income.csv'\n",
    "def HighestIncomeof_last_3_years(df, filepath):\n",
    "    li = []\n",
    "    u = {}\n",
    "    for i in range(len(df.values)):\n",
    "        sum = 0\n",
    "        count = 0\n",
    "        for j in range(8, len(df.columns)):\n",
    "            sum=sum+df.values[i][j]\n",
    "            count+=1\n",
    "        u[df.values[i][1]]=sum//count\n",
    "    print(u)\n",
    "    print('\\n')\n",
    "    a = max(u.values())\n",
    "    for item in u.items():\n",
    "        if a==item[1]:\n",
    "            print(item[0],':',a)\n",
    "       \n",
    "        \n",
    "HighestIncomeof_last_3_years(incomedf, filepath)\n"
   ]
  },
  {
   "cell_type": "code",
   "execution_count": 85,
   "metadata": {},
   "outputs": [
    {
     "name": "stdout",
     "output_type": "stream",
     "text": [
      "{'Alabama': 41900, 'Alaska': 61608, 'Arizona': 50635, 'Arkansas': 38876, 'California': 55791}\n",
      "\n",
      "\n",
      "Arkansas : 38876\n"
     ]
    }
   ],
   "source": [
    "3 ### State with  Lowest income from 2007 to 2010\n",
    "\n",
    "filepath = 'DataFiles/Income.csv'\n",
    "def LowestAvgIncomeof_2007_10(df, filepath):\n",
    "    li = []\n",
    "    u = {}\n",
    "    for i in range(len(df.values)):\n",
    "        sum = 0\n",
    "        count = 0\n",
    "        for j in range(4, len(df.columns)-3):\n",
    "            sum=sum+df.values[i][j]\n",
    "            count+=1\n",
    "        u[df.values[i][1]]=sum//count\n",
    "    print(u)\n",
    "    print('\\n')\n",
    "    a = min(u.values())\n",
    "    for item in u.items():\n",
    "        if a==item[1]:\n",
    "            print(item[0],':',a)\n",
    "       \n",
    "        \n",
    "LowestAvgIncomeof_2007_10(incomedf, filepath)\n"
   ]
  },
  {
   "cell_type": "code",
   "execution_count": 101,
   "metadata": {},
   "outputs": [
    {
     "name": "stdout",
     "output_type": "stream",
     "text": [
      "{'Alabama': 41126, 'Alaska': 60106, 'Arizona': 48967, 'Arkansas': 38828, 'California': 55350}\n",
      "Alabama : 41126\n",
      "Arizona : 48967\n",
      "Arkansas : 38828\n"
     ]
    }
   ],
   "source": [
    "4. #### Print the list of all states in the same line with average income less than California\n",
    "\n",
    "filepath = 'DataFiles/Income.csv'\n",
    "def AvgIncomeLessthanCalifornia(df, filepath):\n",
    "    u = {}\n",
    "    li=[]\n",
    "    for i in range(len(df.values)):\n",
    "        sum = 0\n",
    "        count = 0\n",
    "        for j in range(2, len(df.columns)):\n",
    "            sum=sum+df.values[i][j]\n",
    "            count+=1\n",
    "        u[df.values[i][1]]=sum//count\n",
    "    print(u)\n",
    "    for item in u.items():\n",
    "        if item[1]<55350:\n",
    "            print(item[0],':',item[1])\n",
    "                        \n",
    "AvgIncomeLessthanCalifornia(incomedf, filepath)\n"
   ]
  },
  {
   "cell_type": "code",
   "execution_count": 98,
   "metadata": {},
   "outputs": [
    {
     "name": "stdout",
     "output_type": "stream",
     "text": [
      "[61604, 56134, 45739, 39980, 36538]\n"
     ]
    }
   ],
   "source": [
    "# 5. # Print the names of states based on descending order of income in the year 2009\n",
    "\n",
    "filepath = 'DataFiles/Income.csv'\n",
    "incomedf = readCSVdata(filepath)\n",
    "li = []\n",
    "u=[]\n",
    "def des(df):\n",
    "    for i in range(len(df.values)):\n",
    "        a = (df.values[i][6])\n",
    "        if a not in li:\n",
    "            li.append(a)\n",
    "    u=sorted(li,reverse=True)\n",
    "    print(u)\n",
    "    \n",
    "des(incomedf)\n",
    "\n",
    "    \n",
    "            "
   ]
  },
  {
   "cell_type": "code",
   "execution_count": 104,
   "metadata": {},
   "outputs": [
    {
     "name": "stdout",
     "output_type": "stream",
     "text": [
      "Arkansas : 36538\n"
     ]
    }
   ],
   "source": [
    "6. ## State with the lowest recorded income from 2005 to 2013\n",
    "\n",
    "filepath = 'DataFiles/Income.csv'\n",
    "def Lowest_RecoredeIncome(df, filepath):\n",
    "    li = []\n",
    "    for i in range(len(df.values)):\n",
    "        for j in range(2,len(df.columns)):\n",
    "            u.append(df.values[i][j])\n",
    "    a=min(u)\n",
    "    for i in range(len(df.values)):\n",
    "        for j in range(2,len(df.columns)):\n",
    "            if df.values[i][j]==a:\n",
    "                b=df.values[i][1]\n",
    "    print(b,':',a)\n",
    "            \n",
    "Lowest_RecoredeIncome(incomedf, filepath)\n"
   ]
  },
  {
   "cell_type": "code",
   "execution_count": 106,
   "metadata": {},
   "outputs": [
    {
     "data": {
      "text/plain": [
       "'04000US02'"
      ]
     },
     "execution_count": 106,
     "metadata": {},
     "output_type": "execute_result"
    }
   ],
   "source": [
    "incomedf.values[1][0]\n"
   ]
  },
  {
   "cell_type": "code",
   "execution_count": null,
   "metadata": {},
   "outputs": [],
   "source": []
  }
 ],
 "metadata": {
  "kernelspec": {
   "display_name": "Python 3",
   "language": "python",
   "name": "python3"
  },
  "language_info": {
   "codemirror_mode": {
    "name": "ipython",
    "version": 3
   },
   "file_extension": ".py",
   "mimetype": "text/x-python",
   "name": "python",
   "nbconvert_exporter": "python",
   "pygments_lexer": "ipython3",
   "version": "3.7.3"
  }
 },
 "nbformat": 4,
 "nbformat_minor": 2
}
