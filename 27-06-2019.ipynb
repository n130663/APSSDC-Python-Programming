{
 "cells": [
  {
   "cell_type": "code",
   "execution_count": 7,
   "metadata": {},
   "outputs": [
    {
     "name": "stdout",
     "output_type": "stream",
     "text": [
      "1 2\n",
      "1 3\n",
      "2 3\n"
     ]
    }
   ],
   "source": [
    "### Function to print all combinations of pairs of integers in a given list\n",
    "## [1,2,3] -> (1,2),(1,3),(2,3) -> 3C2 ->3!/((3-2)!)*2!\n",
    "## [1,2,3,4] -> 1,2  1,3  1,4  2,3  2,4  3,4\n",
    "\n",
    "## [1,2,3,4] -> 1,2,3  1,2,4  1,3,4  2,3,4\n",
    "\n",
    "def Combinations(li):\n",
    "    for i in range(len(li)-1):\n",
    "        for j in range(i+1,len(li)):\n",
    "            print(li[i],li[j])\n",
    "     \n",
    "    return \n",
    "li = [1,2,3]\n",
    "Combinations(li)\n",
    "\n",
    "\n",
    "\n"
   ]
  },
  {
   "cell_type": "code",
   "execution_count": 23,
   "metadata": {},
   "outputs": [
    {
     "name": "stdout",
     "output_type": "stream",
     "text": [
      "1 2 3\n",
      "1 2 4\n",
      "1 2 5\n",
      "1 3 4\n",
      "1 3 5\n",
      "1 4 5\n",
      "2 3 4\n",
      "2 3 5\n",
      "2 4 5\n",
      "3 4 5\n"
     ]
    }
   ],
   "source": [
    "\n",
    "def combinations3(li):\n",
    "    for i in range(len(li)-1):\n",
    "        for j in range(i+1,len(li)):\n",
    "            for k in range(j+1,len(li)):\n",
    "                print(li[i],li[j],li[k])\n",
    "    return\n",
    "li=[1,2,3,4,5]\n",
    "combinations3(li)"
   ]
  },
  {
   "cell_type": "code",
   "execution_count": null,
   "metadata": {},
   "outputs": [],
   "source": [
    "## [1,2,3] -> [1,2,3]\n",
    "\n",
    "def medium(li,k):\n",
    "    while(True):\n",
    "        li3 = DifferencePairs(li)\n",
    "        if li3[0] == li3[1]:\n",
    "            break\n",
    "    if len(li3[0])>= k:\n",
    "        return sorted(li3[0],reverse=True)[k-1]\n",
    "    else:\n",
    "        return -1\n",
    "#     return  li3[0] \n",
    "\n",
    "### Function to identify all pairs of numbers\n",
    "### Pairs of numbers and add those differences to the same list\n",
    "## It returns the updated list and original list\n",
    "\n",
    "def DifferencePairs(li):\n",
    "    cli = li[:]\n",
    "    newelements = []\n",
    "    for i in range(len(li)-1):\n",
    "        for j in range(i+1,len(li)):\n",
    "            d = abs(int(li[i])-int(li[j]))\n",
    "            if d not in li and d not in newelements:\n",
    "                newelements.append(str(d))\n",
    "    li.extend(newelements)\n",
    "    return [cli,li]\n",
    "# li=[1,9,8,7,6]\n",
    "# k=int(input())\n",
    "# medium(li)\n",
    "# DifferencePairs(li)\n",
    "with open('DataFiles/input.txt', 'r') as f:\n",
    "    t=int(f.readline())\n",
    "    for i in range(t):\n",
    "        f.readline()\n",
    "        li=f.readline().split()\n",
    "        k=int(f.readline())\n",
    "        print(medium(li,k))\n",
    "    \n",
    "\n",
    "                \n",
    "                \n",
    "    "
   ]
  },
  {
   "cell_type": "code",
   "execution_count": null,
   "metadata": {},
   "outputs": [],
   "source": [
    "a = [1,2,3]\n",
    "b = [1,3,2]\n",
    "a = b.copy() # Copying the data \n",
    "a = b[:]"
   ]
  },
  {
   "cell_type": "code",
   "execution_count": 2,
   "metadata": {},
   "outputs": [
    {
     "data": {
      "text/plain": [
       "[1, 2, 3, 4, 5, 6]"
      ]
     },
     "execution_count": 2,
     "metadata": {},
     "output_type": "execute_result"
    }
   ],
   "source": [
    "[4,8]\n",
    "[20,40,80]\n",
    "[4,8,12,16]\n",
    "[3,6,9,12]\n",
    "# Convert the list into an Arithmetic Progression\n",
    "\n",
    "[3,8,15]\n",
    "[3,8,15,5,2,1,4,6,7,9,10,11,12,13,14]\n"
   ]
  },
  {
   "cell_type": "code",
   "execution_count": null,
   "metadata": {},
   "outputs": [],
   "source": []
  },
  {
   "cell_type": "markdown",
   "metadata": {},
   "source": [
    "### Set - Data Structure in Python\n",
    "\n",
    "- Represented by '{}'\n",
    "\n",
    "   - a={1,2,3,4,5,6}   --->it contains only unique element and if \n",
    "     we kept colon(:) in between the elements means it is dictionary\n",
    "   - There is no order to the set\n",
    "   - Dictionary is a 2Dimension type(Keys : Vlaues)\n",
    "   - Set can contain any kind of data like string, lists etc\n",
    "   \n",
    "   \n",
    "   \n",
    "   \n",
    "   "
   ]
  },
  {
   "cell_type": "code",
   "execution_count": 12,
   "metadata": {},
   "outputs": [
    {
     "data": {
      "text/plain": [
       "{1, 2, 3, 4, 5, 7, 8, 9, 11, 12, 13}"
      ]
     },
     "execution_count": 12,
     "metadata": {},
     "output_type": "execute_result"
    }
   ],
   "source": [
    "\n",
    "a={1,1,2,3,4,5}\n",
    "\n",
    "a.add(7)  #### Adding a single element to the set\n",
    "\n",
    "# for i in a:\n",
    "#     print(i,end=' ')  ---> Accessing elements \n",
    "\n",
    "b = {9,7,8}\n",
    "li = [11,12,13,1,9]\n",
    "\n",
    "a.update(b,li)  #### Adding Multiple elements\n",
    "\n",
    "a\n"
   ]
  },
  {
   "cell_type": "code",
   "execution_count": 23,
   "metadata": {},
   "outputs": [
    {
     "data": {
      "text/plain": [
       "{1, 2, 3, 4, 5, 6, 7, 8, 9, 10}"
      ]
     },
     "execution_count": 23,
     "metadata": {},
     "output_type": "execute_result"
    }
   ],
   "source": [
    "\n",
    "a = {10,1,2,3,4,5,6}\n",
    "b = {7,8,9,1,2,3}\n",
    "\n",
    "a.union(b) ## Union is function which is add the both sets\n",
    "\n",
    "## A U B = B U A\n",
    "\n",
    "b.union(a)\n"
   ]
  },
  {
   "cell_type": "code",
   "execution_count": 27,
   "metadata": {},
   "outputs": [
    {
     "data": {
      "text/plain": [
       "{1, 2, 3}"
      ]
     },
     "execution_count": 27,
     "metadata": {},
     "output_type": "execute_result"
    }
   ],
   "source": [
    "\n",
    "a = {10,1,2,3,4,5,6}\n",
    "b = {7,8,9,1,2,3}\n",
    "c = {111,123}\n",
    "a.intersection(b)\n"
   ]
  },
  {
   "cell_type": "code",
   "execution_count": 28,
   "metadata": {},
   "outputs": [
    {
     "data": {
      "text/plain": [
       "True"
      ]
     },
     "execution_count": 28,
     "metadata": {},
     "output_type": "execute_result"
    }
   ],
   "source": [
    "\n",
    "a.isdisjoint(c)\n"
   ]
  },
  {
   "cell_type": "code",
   "execution_count": 30,
   "metadata": {},
   "outputs": [
    {
     "data": {
      "text/plain": [
       "{7, 8, 9}"
      ]
     },
     "execution_count": 30,
     "metadata": {},
     "output_type": "execute_result"
    }
   ],
   "source": [
    "\n",
    "a - b ## All elements of A which are not in B is equal to A intersection B\n",
    "\n",
    "b-a\n"
   ]
  },
  {
   "cell_type": "code",
   "execution_count": 33,
   "metadata": {},
   "outputs": [
    {
     "data": {
      "text/plain": [
       "4"
      ]
     },
     "execution_count": 33,
     "metadata": {},
     "output_type": "execute_result"
    }
   ],
   "source": [
    "\n",
    "g=sorted(a)\n",
    "g[3]\n"
   ]
  },
  {
   "cell_type": "code",
   "execution_count": 34,
   "metadata": {},
   "outputs": [
    {
     "data": {
      "text/plain": [
       "{4, 5, 6, 7, 8, 9, 10}"
      ]
     },
     "execution_count": 34,
     "metadata": {},
     "output_type": "execute_result"
    }
   ],
   "source": [
    "\n",
    "a^b   ### Elements either in A or in B\n"
   ]
  },
  {
   "cell_type": "code",
   "execution_count": 35,
   "metadata": {},
   "outputs": [
    {
     "data": {
      "text/plain": [
       "set()"
      ]
     },
     "execution_count": 35,
     "metadata": {},
     "output_type": "execute_result"
    }
   ],
   "source": [
    "### Creating an empty set\n",
    "\n",
    "d = set()\n",
    "d\n"
   ]
  },
  {
   "cell_type": "code",
   "execution_count": 36,
   "metadata": {},
   "outputs": [
    {
     "data": {
      "text/plain": [
       "{1, 2, 3, 4}"
      ]
     },
     "execution_count": 36,
     "metadata": {},
     "output_type": "execute_result"
    }
   ],
   "source": [
    "\n",
    "li = [1,2,3,4,2,1,2,3,4]\n",
    "u = set(li)\n",
    "u\n"
   ]
  },
  {
   "cell_type": "code",
   "execution_count": null,
   "metadata": {},
   "outputs": [],
   "source": []
  },
  {
   "cell_type": "markdown",
   "metadata": {},
   "source": [
    "Procedural : C\n",
    "\n",
    "object Oreiented : Java, Python\n",
    "\n",
    "Scripting : PHP, Python, Javascript, Shell, Perl\n",
    "\n",
    "Functional : Python, Haskell, Scala\n",
    "\n",
    "Logic : Prolog, Lisp,\n",
    "\n"
   ]
  },
  {
   "cell_type": "markdown",
   "metadata": {},
   "source": [
    "### List Comprehensions\n"
   ]
  },
  {
   "cell_type": "code",
   "execution_count": 38,
   "metadata": {},
   "outputs": [
    {
     "name": "stdout",
     "output_type": "stream",
     "text": [
      "[1, 2, 3, 4, 5, 6, 7, 8, 9, 10]\n"
     ]
    }
   ],
   "source": [
    "## List of N natural numbers\n",
    "n = 10\n",
    "list = []\n",
    "for i in range(1,n+1):\n",
    "    list.append(i)\n",
    "print(list)\n",
    "    "
   ]
  },
  {
   "cell_type": "code",
   "execution_count": 39,
   "metadata": {},
   "outputs": [
    {
     "data": {
      "text/plain": [
       "[1, 2, 3, 4, 5, 6, 7, 8, 9, 10]"
      ]
     },
     "execution_count": 39,
     "metadata": {},
     "output_type": "execute_result"
    }
   ],
   "source": [
    "# Another way to add elements to the list\n",
    "list = [i for i in range(1,11)]\n",
    "list\n"
   ]
  },
  {
   "cell_type": "code",
   "execution_count": 41,
   "metadata": {},
   "outputs": [
    {
     "data": {
      "text/plain": [
       "[1, 8, 27, 64, 125, 216, 343, 512, 729, 1000]"
      ]
     },
     "execution_count": 41,
     "metadata": {},
     "output_type": "execute_result"
    }
   ],
   "source": [
    "## Apply list comprehension to store the cubes on N natural numbers\n",
    "\n",
    "list = [i**3 for i in range(1,11)]\n",
    "list\n"
   ]
  },
  {
   "cell_type": "code",
   "execution_count": 50,
   "metadata": {},
   "outputs": [
    {
     "data": {
      "text/plain": [
       "[1, 2, 6, 24]"
      ]
     },
     "execution_count": 50,
     "metadata": {},
     "output_type": "execute_result"
    }
   ],
   "source": [
    "## Function  to calculate the factorial\n",
    "\n",
    "def Factorial(n):\n",
    "    if n == 0 or n == 1:\n",
    "        return 1\n",
    "    else:\n",
    "        return n * Factorial(n-1)\n",
    "## Apply list comprehension to calculate factorial of n natural numbers\n",
    "\n",
    "n = 4\n",
    "FactorialList = [ Factorial(i) for i in range(1,n+1)]\n",
    "FactorialList"
   ]
  },
  {
   "cell_type": "code",
   "execution_count": 111,
   "metadata": {},
   "outputs": [],
   "source": [
    "#### Store Cumulative sum of numbers till n\n",
    "# n = 3, [1, 3, 6]\n",
    "\n",
    "def csum(n):\n",
    "    s=0\n",
    "    for i in range(1,n+1):\n",
    "        s=s+i\n",
    "       \n",
    "    return  s\n",
    "\n"
   ]
  },
  {
   "cell_type": "code",
   "execution_count": 85,
   "metadata": {},
   "outputs": [
    {
     "data": {
      "text/plain": [
       "[1, 3, 6, 10, 15]"
      ]
     },
     "execution_count": 85,
     "metadata": {},
     "output_type": "execute_result"
    }
   ],
   "source": [
    "n = 5\n",
    "sumlist = [sum(range(1,i+1)) for i in range(1,n+1)]\n",
    "sumlist"
   ]
  },
  {
   "cell_type": "code",
   "execution_count": 136,
   "metadata": {},
   "outputs": [
    {
     "name": "stdout",
     "output_type": "stream",
     "text": [
      "1970\n",
      "2019\n"
     ]
    },
    {
     "data": {
      "text/plain": [
       "[1972, 1976, 1980, 1984, 1988, 1992, 1996, 2000, 2004, 2008, 2012, 2016]"
      ]
     },
     "execution_count": 136,
     "metadata": {},
     "output_type": "execute_result"
    }
   ],
   "source": [
    "#### List Comprehension to store  numbers only leap years in a given time\n",
    "##  start year = 1970  end year = 2019\n",
    "## leap years = []\n",
    "\n",
    "a=int(input())\n",
    "b=int(input())\n",
    "Leapyears= [i for i in range(a,b+1) if (i%400==0 or (i%100!=0 and i%4==0))]\n",
    "Leapyears\n",
    "    "
   ]
  },
  {
   "cell_type": "code",
   "execution_count": 138,
   "metadata": {},
   "outputs": [
    {
     "data": {
      "text/plain": [
       "[2, 4, 6, 8]"
      ]
     },
     "execution_count": 138,
     "metadata": {},
     "output_type": "execute_result"
    }
   ],
   "source": [
    "## EVEN NUMBERS\n",
    "n = [i for i in range(1,10) if(i%2==0)]\n",
    "n"
   ]
  },
  {
   "cell_type": "code",
   "execution_count": 139,
   "metadata": {},
   "outputs": [
    {
     "data": {
      "text/plain": [
       "[1, 3, 5, 7, 9]"
      ]
     },
     "execution_count": 139,
     "metadata": {},
     "output_type": "execute_result"
    }
   ],
   "source": [
    "## ODD NUMBERS\n",
    "n = [i for i in range(1,10) if(i%2!=0)]\n",
    "n"
   ]
  },
  {
   "cell_type": "code",
   "execution_count": 147,
   "metadata": {},
   "outputs": [
    {
     "data": {
      "text/plain": [
       "[1, 2, 3]"
      ]
     },
     "execution_count": 147,
     "metadata": {},
     "output_type": "execute_result"
    }
   ],
   "source": [
    "\n",
    "li = [1,2,3,2,1]\n",
    "li.sort()\n",
    "u2 =[]\n",
    "u1 = []\n",
    "u3 = [li[i] for i in range(0,len(li)-1) if sorted(li)[i]!=sorted(li[i+1]) and i<len((li)-1) or i == len(li)-1 ]\n",
    "# u1= [u2.append(i) for i in li if i not in u2]\n",
    "u2\n"
   ]
  },
  {
   "cell_type": "markdown",
   "metadata": {},
   "source": [
    "\n",
    "\n",
    "##  Iterators\n",
    "\n",
    "\n"
   ]
  },
  {
   "cell_type": "markdown",
   "metadata": {},
   "source": [
    "- Iterable-String,Lists,Tips,Sets and Dictionary\n",
    "- Convert iterable to interator-->iter()\n",
    "- for loop: we can not break until some condition is reached\n",
    "- Iterator: We can stop at anytime(There is a pause in iterable process)\n"
   ]
  },
  {
   "cell_type": "code",
   "execution_count": 9,
   "metadata": {},
   "outputs": [
    {
     "name": "stdout",
     "output_type": "stream",
     "text": [
      "N\n",
      "a\n"
     ]
    }
   ],
   "source": [
    "it=iter('Nandini')\n",
    "print('1:')\n",
    "print(next(it))\n",
    "# print('\\n')\n",
    "# print('2:')\n",
    "print(next(it))"
   ]
  },
  {
   "cell_type": "markdown",
   "metadata": {},
   "source": [
    "## Generators"
   ]
  },
  {
   "cell_type": "markdown",
   "metadata": {},
   "source": [
    "- Generators is a user function\n",
    "- Yield is like a return\n"
   ]
  },
  {
   "cell_type": "code",
   "execution_count": 2,
   "metadata": {},
   "outputs": [
    {
     "data": {
      "text/plain": [
       "512"
      ]
     },
     "execution_count": 2,
     "metadata": {},
     "output_type": "execute_result"
    }
   ],
   "source": [
    "def generator():\n",
    "    n=2\n",
    "    for i in range(1,5):\n",
    "        n**=3\n",
    "        yield n\n",
    "a = generator()\n",
    "next(a)\n",
    "next(a)"
   ]
  },
  {
   "cell_type": "code",
   "execution_count": 4,
   "metadata": {},
   "outputs": [
    {
     "name": "stdout",
     "output_type": "stream",
     "text": [
      "512\n",
      "134217728\n",
      "2417851639229258349412352\n",
      "14134776518227074636666380005943348126619871175004951664972849610340958208\n",
      "2824013958708217496949108842204627863351353911851577524683401930862693830361198499905873920995229996970897865498283996578123296865878390947626553088486946106430796091482716120572632072492703527723757359478834530365734912\n"
     ]
    }
   ],
   "source": [
    "## For infinite loop\n",
    "def generator():\n",
    "    n=2\n",
    "    while True:\n",
    "        n**=3\n",
    "        yield n\n",
    "a=generator()\n",
    "next(a)\n",
    "for i in range(5):\n",
    "    print(next(a))"
   ]
  },
  {
   "cell_type": "code",
   "execution_count": null,
   "metadata": {},
   "outputs": [],
   "source": [
    "import re\n",
    "\n",
    "li = ['1','2','11','22','100','100','200','1234']\n"
   ]
  }
 ],
 "metadata": {
  "kernelspec": {
   "display_name": "Python 3",
   "language": "python",
   "name": "python3"
  },
  "language_info": {
   "codemirror_mode": {
    "name": "ipython",
    "version": 3
   },
   "file_extension": ".py",
   "mimetype": "text/x-python",
   "name": "python",
   "nbconvert_exporter": "python",
   "pygments_lexer": "ipython3",
   "version": "3.7.3"
  }
 },
 "nbformat": 4,
 "nbformat_minor": 2
}
