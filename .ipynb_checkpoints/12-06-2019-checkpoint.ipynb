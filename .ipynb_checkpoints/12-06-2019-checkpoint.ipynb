{
 "cells": [
  {
   "cell_type": "markdown",
   "metadata": {},
   "source": [
    "# Problem Solving and Programming\n",
    "\n",
    "#### Date 12 June 2019\n",
    "#### Day Objectives\n",
    "- Day Objectives\n",
    "- String Slicing\n",
    "- Functions in Python\n",
    "- Basic Problems related to conditional statements using functions\n",
    "- Iteration in Python\n",
    "- Python Data Structures-Lists, Tuples and Dictionaries\n",
    "- Basic Operations on data structures\n",
    "- Applying Data Structures to solve problems"
   ]
  },
  {
   "cell_type": "markdown",
   "metadata": {},
   "source": [
    "## String Slicing"
   ]
  },
  {
   "cell_type": "code",
   "execution_count": 2,
   "metadata": {},
   "outputs": [
    {
     "data": {
      "text/plain": [
       "'o'"
      ]
     },
     "execution_count": 2,
     "metadata": {},
     "output_type": "execute_result"
    }
   ],
   "source": [
    "####### Accessing SINGLE characters #######\n",
    "\n",
    "s1 = 'Python'\n",
    "\n",
    "s1[0] #Accessing the first character in  a string\n",
    "\n",
    "s1[1] #Accessing the second character in a string \n",
    "\n",
    "s1[len(s1)-1] #Accessing the last character in a string\n",
    "\n",
    "s1[-1] #Another way of accessing the last character in a string\n",
    "\n",
    "s1[-2] #Accessing the penultimate character of a string\n",
    "\n",
    "\n",
    "\n",
    "\n"
   ]
  },
  {
   "cell_type": "code",
   "execution_count": 20,
   "metadata": {},
   "outputs": [
    {
     "data": {
      "text/plain": [
       "'nhy'"
      ]
     },
     "execution_count": 20,
     "metadata": {},
     "output_type": "execute_result"
    }
   ],
   "source": [
    "###### Accessing MULTIPLE characters #######\n",
    "\n",
    "s1[0:3] #Accessing the first two characters in a string\n",
    "\n",
    "s1[-2:] #Accessing the last two characters in a string\n",
    "\n",
    "s1[4:]  #Accessing all characters from 5th character to end of string\n",
    "\n",
    "\n",
    "### Accessing all characters except first and last character\n",
    "\n",
    "s1[1:-1]\n",
    "\n",
    "### Acessing the middle character in an odd character a string\n",
    "s1[len(s1)//2]\n",
    "\n",
    "s1[-1::-1]   # Reverse of a String\n",
    "#string_reverse[start:end:step] syntax\n",
    "\n",
    "s1[-1:-3:-1]# Accessing last two characters in reverse string\n",
    "\n",
    "# Reverse the middle two characters in an even length string\n",
    "s1[len(s1)//2:(len(s1)//2)-2:-1]\n",
    "\n",
    "# Accessing alternate characters in a string\n",
    "#\"Python\" -> \"Pto\"\n",
    "s1[::2]\n",
    "\n",
    "# Accessing alternate characters of a string in reverse order\n",
    "# \"Python\" -> \"nhy\"\n",
    "s1[::-2]\n",
    "\n",
    "\n"
   ]
  },
  {
   "cell_type": "markdown",
   "metadata": {},
   "source": [
    "## Functions"
   ]
  },
  {
   "cell_type": "code",
   "execution_count": null,
   "metadata": {},
   "outputs": [],
   "source": [
    "## Function to REVERSE a string\n",
    "\n",
    "s = str(input(\"enter string: \"))\n",
    "def reverseString(s): ### Function definition\n",
    "    return s[::-1]\n",
    "\n",
    "reverseString(s) #### Function calling\n",
    "\n"
   ]
  },
  {
   "cell_type": "code",
   "execution_count": 35,
   "metadata": {},
   "outputs": [
    {
     "name": "stdout",
     "output_type": "stream",
     "text": [
      "enter a string: 121\n"
     ]
    },
    {
     "data": {
      "text/plain": [
       "True"
      ]
     },
     "execution_count": 35,
     "metadata": {},
     "output_type": "execute_result"
    }
   ],
   "source": [
    "## Function to check if a string is a PALINDROME \n",
    "\n",
    "s =str(input(\"enter a string: \"))\n",
    "def pal(s):\n",
    "    if s == s[::-1]:\n",
    "        return True\n",
    "    else:\n",
    "        return False\n",
    "pal(s)\n"
   ]
  },
  {
   "cell_type": "code",
   "execution_count": 40,
   "metadata": {},
   "outputs": [
    {
     "name": "stdout",
     "output_type": "stream",
     "text": [
      "Enter year1996\n"
     ]
    },
    {
     "data": {
      "text/plain": [
       "True"
      ]
     },
     "execution_count": 40,
     "metadata": {},
     "output_type": "execute_result"
    }
   ],
   "source": [
    "## Function to check if a given year is LEAP year or not \n",
    "\n",
    "n = int(input(\"Enter year\"))\n",
    "def leapyear(n):\n",
    "    if n%400==0 or n%100!=0 and n%4==0:\n",
    "        return True\n",
    "    else:\n",
    "        return False\n",
    "leapyear(n)\n"
   ]
  },
  {
   "cell_type": "code",
   "execution_count": 60,
   "metadata": {},
   "outputs": [
    {
     "name": "stdout",
     "output_type": "stream",
     "text": [
      "enter number:1234567\n"
     ]
    },
    {
     "data": {
      "text/plain": [
       "7"
      ]
     },
     "execution_count": 60,
     "metadata": {},
     "output_type": "execute_result"
    }
   ],
   "source": [
    "## Number of digits count\n",
    "\n",
    "n = int(input(\"enter number:\"))\n",
    "\n",
    "def digitcount(n):\n",
    "    c=0\n",
    "    while n!=0:\n",
    "        c=c+1\n",
    "        n=n//10\n",
    "        \n",
    "    return c\n",
    "digitcount(n)\n",
    "\n",
    "        "
   ]
  },
  {
   "cell_type": "code",
   "execution_count": 61,
   "metadata": {},
   "outputs": [
    {
     "data": {
      "text/plain": [
       "4"
      ]
     },
     "execution_count": 61,
     "metadata": {},
     "output_type": "execute_result"
    }
   ],
   "source": [
    "## Function to identify the greatest of 4 numbers\n",
    "\n",
    "def greatest(n1,n2,n3,n4):\n",
    "    if n1>n2 and n1 >n3 and n1>n4:\n",
    "        return n1\n",
    "    elif n2>n3 and n2>n4:\n",
    "        return n2\n",
    "    elif n3>n4:\n",
    "        return n3\n",
    "    else:\n",
    "        return n4\n",
    "    \n",
    "greatest(1,2,3,4)"
   ]
  },
  {
   "cell_type": "markdown",
   "metadata": {},
   "source": [
    "### Iteration\n",
    "- for\n",
    "- while"
   ]
  },
  {
   "cell_type": "code",
   "execution_count": 1,
   "metadata": {},
   "outputs": [
    {
     "name": "stdout",
     "output_type": "stream",
     "text": [
      "1 2 3 4 5 6 7 8 9 10 11 12 13 14 15 16 17 18 19 20 21 22 23 24 25 26 27 28 29 30 31 32 33 34 35 36 37 38 39 40 "
     ]
    }
   ],
   "source": [
    "## Function to print n natural numbers\n",
    "\n",
    "def printNnaturalNumbers(n):\n",
    "    for counter in range(1,n+1):\n",
    "        print(counter,end=\" \")\n",
    "    return \n",
    "\n",
    "printNnaturalNumbers(40)\n",
    "\n"
   ]
  },
  {
   "cell_type": "code",
   "execution_count": 10,
   "metadata": {},
   "outputs": [
    {
     "name": "stdout",
     "output_type": "stream",
     "text": [
      "500 504 508 512 516 520 524 "
     ]
    }
   ],
   "source": [
    "## Function to print the alternate values in a range\n",
    "## [500, 550] -> 500 502 504 506...............550\n",
    "## (500,550)  -> 501 503 505 507...............549\n",
    "## range(500,550) -> 500 501 502.........549\n",
    "##All set based functions in Python have start value is exclusive\n",
    "\n",
    "def alternateValues(start, end):\n",
    "    for value in range(start, end+1,4):\n",
    "        print(value, end = \" \")\n",
    "    return \n",
    "\n",
    "alternateValues(500, 525)\n"
   ]
  },
  {
   "cell_type": "code",
   "execution_count": 26,
   "metadata": {},
   "outputs": [
    {
     "name": "stdout",
     "output_type": "stream",
     "text": [
      "520 519 518 517 516 515 514 513 512 511 510 509 508 507 506 505 504 503 502 501 "
     ]
    }
   ],
   "source": [
    "### Function to print reverse of given range \n",
    "\n",
    "def reverserange(start,end):\n",
    "    for i in range(end,start,-1):\n",
    "    ## for i in range(start,end,-1)\n",
    "        print(i,end=\" \")\n",
    "    return \n",
    "\n",
    "reverserange(500,520)\n",
    "#reverserange(520,500)"
   ]
  },
  {
   "cell_type": "code",
   "execution_count": 29,
   "metadata": {},
   "outputs": [
    {
     "name": "stdout",
     "output_type": "stream",
     "text": [
      "9 7 5 3 1 "
     ]
    }
   ],
   "source": [
    "## Function to print the odd numbers in reverse order in a range\n",
    "\n",
    "def oddreverseRange(start,end):\n",
    "    for n in range(end,start-1,-1):\n",
    "        if(n%2!=0):\n",
    "            print(n,end=\" \")\n",
    "    return\n",
    "\n",
    "oddreverseRange(1,10)"
   ]
  },
  {
   "cell_type": "code",
   "execution_count": 49,
   "metadata": {},
   "outputs": [
    {
     "data": {
      "text/plain": [
       "25"
      ]
     },
     "execution_count": 49,
     "metadata": {},
     "output_type": "execute_result"
    }
   ],
   "source": [
    "## Function to caluculate the sum of numbers in a range\n",
    "\n",
    "def sumofallNumber(start, end):\n",
    "    sum=0\n",
    "    for value in range(start,end+1):\n",
    "        #if value%2!=0:\n",
    "            sum+=value\n",
    "    return sum\n",
    "\n",
    "sumofallNumber(1,10)\n"
   ]
  },
  {
   "cell_type": "code",
   "execution_count": 8,
   "metadata": {},
   "outputs": [
    {
     "data": {
      "text/plain": [
       "3000"
      ]
     },
     "execution_count": 8,
     "metadata": {},
     "output_type": "execute_result"
    }
   ],
   "source": [
    "## Function to caluculate the average of a given range\n",
    "\n",
    "def avgofallNumber(start, end):\n",
    "    sum=0\n",
    "    c=0\n",
    "    for value in range(start,end+1):\n",
    "        sum+=value\n",
    "        c+=1\n",
    "            \n",
    "    return sum//c\n",
    "\n",
    "avgofallNumber(1000,5000)"
   ]
  },
  {
   "cell_type": "code",
   "execution_count": 2,
   "metadata": {},
   "outputs": [
    {
     "name": "stdout",
     "output_type": "stream",
     "text": [
      "1 2 3 4 5 6 7 8 9 10 11 12 13 14 15 16 17 18 19 20 "
     ]
    }
   ],
   "source": [
    "# Function to pring N natural integes\n",
    "\n",
    "def NaturalNumber(n):\n",
    "    counter = 1\n",
    "    while counter <= n:\n",
    "        print(counter,end=\" \")\n",
    "        counter = counter+1\n",
    "    \n",
    "    return \n",
    "\n",
    "NaturalNumber(20)"
   ]
  },
  {
   "cell_type": "code",
   "execution_count": 93,
   "metadata": {},
   "outputs": [
    {
     "name": "stdout",
     "output_type": "stream",
     "text": [
      "enter start range:1\n",
      "enter end range:10\n",
      "6 "
     ]
    }
   ],
   "source": [
    "## Function to print all numbers divisible by 6\n",
    "a = int(input(\"enter start range:\"))\n",
    "b = int(input(\"enter end range:\"))\n",
    "def div6(a,b):\n",
    "    for i in range (a,b+1):\n",
    "        if i%6==0 and i%100!=0:\n",
    "            print(i,end=\" \")\n",
    "    \n",
    "    return \n",
    "\n",
    "div6(a,b)"
   ]
  },
  {
   "cell_type": "code",
   "execution_count": 1,
   "metadata": {},
   "outputs": [
    {
     "name": "stdout",
     "output_type": "stream",
     "text": [
      "enter start range:10\n",
      "enter end range:20\n"
     ]
    },
    {
     "data": {
      "text/plain": [
       "3900"
      ]
     },
     "execution_count": 1,
     "metadata": {},
     "output_type": "execute_result"
    }
   ],
   "source": [
    "## Function to find the average of cubes of all even numbers in a given range inclusive\n",
    "\n",
    "a = int(input(\"enter start range:\"))\n",
    "b = int(input(\"enter end range:\"))\n",
    "def even(a,b):\n",
    "    c=0\n",
    "    sum=0\n",
    "    for i in range(a,b+1):\n",
    "        if i%2==0:\n",
    "            sum=sum+i**3\n",
    "            c=c+1\n",
    "    return sum//c\n",
    "even(a,b)\n"
   ]
  },
  {
   "cell_type": "code",
   "execution_count": 154,
   "metadata": {},
   "outputs": [
    {
     "name": "stdout",
     "output_type": "stream",
     "text": [
      "2000 2004 2008 2012 2016 2020 "
     ]
    }
   ],
   "source": [
    "## Function to generate all leap years in a given time period\n",
    "## 2000 - 2020 -> 2000 2004 2008 2012 2016 2020\n",
    "\n",
    "def isLeapYear(year):#TO check if a given year is a Leap Year\n",
    "    if year%400 ==0 or(year%100!=0 and year%4==0):\n",
    "        return True\n",
    "    return False\n",
    "\n",
    "def generateLeapYears(startyear,endyear):# uses the isLeapYear() to \n",
    "    for year in range(startyear,endyear+1):\n",
    "        if isLeapYear(year):\n",
    "            print(year,end=\" \")\n",
    "    return \n",
    "generateLeapYears(2000,2020)\n",
    "    "
   ]
  },
  {
   "cell_type": "code",
   "execution_count": 166,
   "metadata": {},
   "outputs": [
    {
     "data": {
      "text/plain": [
       "1095"
      ]
     },
     "execution_count": 166,
     "metadata": {},
     "output_type": "execute_result"
    }
   ],
   "source": [
    "## Caluculate number of days in a given time period\n",
    "#For every year in the given time period,if the year is not leap year -> add 356 to sum\n",
    "\n",
    "def isLeapYear(year):#TO check if a given year is a Leap Year\n",
    "    if year%400 ==0 or(year%100!=0 and year%4==0):\n",
    "        return True\n",
    "    return False\n",
    "\n",
    "def numberofDays(startyear,endyear):\n",
    "    sum=0\n",
    "    for year in range(startyear,endyear+1):\n",
    "        if isLeapYear(year):\n",
    "            sum=sum+366\n",
    "        else:\n",
    "            sum=sum+365\n",
    "    return sum\n",
    "numberofDays(2001,2003)\n",
    "\n",
    "\n"
   ]
  },
  {
   "cell_type": "code",
   "execution_count": 169,
   "metadata": {},
   "outputs": [
    {
     "data": {
      "text/plain": [
       "205248"
      ]
     },
     "execution_count": 169,
     "metadata": {},
     "output_type": "execute_result"
    }
   ],
   "source": [
    "def numberOfDaysMonth(month,year):\n",
    "    if month == 2:\n",
    "        if isLeapYear(year):\n",
    "            return 29\n",
    "        return 28\n",
    "    elif(month <=7 and month %2!=0) or (month >7 and month%2==0):\n",
    "        return 31\n",
    "    else:\n",
    "        return 30\n",
    "    \n",
    "def daysInStartYear(startmonth, startyear):\n",
    "    days = 0\n",
    "    for month in range(startmonth, 13):\n",
    "        days +=numberOfDaysMonth(month, startyear)\n",
    "    return days\n",
    "\n",
    "def daysInEndYear(endmonth, endyear):\n",
    "    days = 0\n",
    "    for month in range(1, endmonth+1):\n",
    "        days+=numberOfDaysMonth(month, endyear)\n",
    "    return days\n",
    "\n",
    "def numberOfHours(startmonth, startyear, endmonth, endyear):\n",
    "    days = 0\n",
    "    if(startyear!=endyear):\n",
    "        days += daysInStartYear(startmonth, startyear)\n",
    "        days += daysInEndYear(endmonth, endyear)\n",
    "        if endyear - startyear == 2: # 2019 -2017\n",
    "            days += numberofDays(startyear+1, startyear+1)\n",
    "        elif endyear - startyear > 2:\n",
    "            days += numberofDays(startyear+1, endyear-1)\n",
    "    else:\n",
    "        for month in range(startmonth, endmonth+1):\n",
    "            days += numberofDays(month,startyear)\n",
    "    return 24 * days\n",
    "\n",
    "numberOfHours(11, 1975, 3, 1999)    \n",
    "    "
   ]
  },
  {
   "cell_type": "code",
   "execution_count": 6,
   "metadata": {},
   "outputs": [
    {
     "name": "stdout",
     "output_type": "stream",
     "text": [
      "1 2 3 4 6 12 "
     ]
    },
    {
     "data": {
      "text/plain": [
       "12"
      ]
     },
     "execution_count": 6,
     "metadata": {},
     "output_type": "execute_result"
    }
   ],
   "source": [
    "##### Function to generate factors\n",
    "## 12 -> 1 2 3 4 6 12\n",
    "\n",
    "# n = int(input(\"enter number\"))\n",
    "def fact(n):\n",
    "    \n",
    "    for i in range(1,n+1):\n",
    "        \n",
    "        if n%i==0:\n",
    "            print(i,end=\" \")\n",
    "            \n",
    "    return \n",
    "\n",
    "fact(12)\n",
    "        \n"
   ]
  },
  {
   "cell_type": "code",
   "execution_count": 7,
   "metadata": {},
   "outputs": [
    {
     "name": "stdout",
     "output_type": "stream",
     "text": [
      "enter number3\n"
     ]
    },
    {
     "data": {
      "text/plain": [
       "6"
      ]
     },
     "execution_count": 7,
     "metadata": {},
     "output_type": "execute_result"
    }
   ],
   "source": [
    "##### Factorial \n",
    "\n",
    "n = int(input(\"enter number\"))\n",
    "def factor(n):\n",
    "    f=1\n",
    "    for i in range(1,n+1):\n",
    "            f=f*i\n",
    "        \n",
    "    return f\n",
    "factor(n)"
   ]
  },
  {
   "cell_type": "code",
   "execution_count": 31,
   "metadata": {},
   "outputs": [
    {
     "name": "stdout",
     "output_type": "stream",
     "text": [
      "enter number5\n",
      "P\n"
     ]
    }
   ],
   "source": [
    "##### Prime or not\n",
    "\n",
    "n = int(input(\"enter number\"))\n",
    "def prime(n):\n",
    "    c=0\n",
    "    for i in range(1,n+1):\n",
    "        if n%i==0:\n",
    "            c=c+1 \n",
    "    if c==2:\n",
    "        print(\"P\")\n",
    "    else:\n",
    "        print(\"NP\")\n",
    "\n",
    "prime(n)"
   ]
  },
  {
   "cell_type": "code",
   "execution_count": 55,
   "metadata": {},
   "outputs": [
    {
     "name": "stdout",
     "output_type": "stream",
     "text": [
      "enter start range:1\n",
      "enter end range:10\n"
     ]
    },
    {
     "data": {
      "text/plain": [
       "4"
      ]
     },
     "execution_count": 55,
     "metadata": {},
     "output_type": "execute_result"
    }
   ],
   "source": [
    "### avg of all prime numbers in a given range\n",
    "\n",
    "a = int(input(\"enter start range:\"))\n",
    "b = int(input(\"enter end range:\"))\n",
    "def prime_sum(a,b):\n",
    "    sum=0\n",
    "    for i in range(a,b+1):\n",
    "        c=0\n",
    "        for j in range(1,i+1):\n",
    "            if i%j==0:\n",
    "                c=c+1\n",
    "        if c==2:\n",
    "            sum+=i\n",
    "        #print(i,end=\" \")\n",
    "        \n",
    "    return sum//c\n",
    "prime_sum(a,b)\n",
    "    "
   ]
  },
  {
   "cell_type": "code",
   "execution_count": 22,
   "metadata": {},
   "outputs": [
    {
     "name": "stdout",
     "output_type": "stream",
     "text": [
      "enter number:6\n",
      "perfect\n"
     ]
    }
   ],
   "source": [
    "#### Perfect number\n",
    "\n",
    "n = int(input(\"enter number:\"))\n",
    "def perfect(n):\n",
    "    sum=0\n",
    "    for i in range(1,n):\n",
    "        if n%i==0:\n",
    "            sum=sum+i\n",
    "    if sum==n:\n",
    "        print(\"perfect\")\n",
    "    else:\n",
    "        print(\"Not perfect\")\n",
    "    return \n",
    "perfect(n)\n",
    "            "
   ]
  },
  {
   "cell_type": "code",
   "execution_count": null,
   "metadata": {},
   "outputs": [
    {
     "name": "stdout",
     "output_type": "stream",
     "text": [
      "6 28 496 8128 "
     ]
    }
   ],
   "source": [
    "### Perfect numbers in a given Range\n",
    "\n",
    "\n",
    "def isPerfect(n):\n",
    "    sum=0\n",
    "    for i in range(1,n):\n",
    "        if n%i==0:\n",
    "            sum=sum+i\n",
    "    if sum==n:\n",
    "        return True\n",
    "    else:\n",
    "        return False\n",
    "    return \n",
    "def perfectrange(start,end):\n",
    "    for n in range(start,end+1):\n",
    "        if isPerfect(n):\n",
    "            \n",
    "            print(n,end=\" \")\n",
    "        \n",
    "    return \n",
    "\n",
    "perfectrange(1,100000)\n",
    "            \n",
    "            \n"
   ]
  },
  {
   "cell_type": "markdown",
   "metadata": {},
   "source": [
    "## Advanced Problem Set\n",
    "- Function to Caluculate average of all factorials in a given range\n",
    "- Function to generate N odd armstrong numbers\n",
    "- Function to generate Multiplucation table for a number in a given range\n",
    "      - 10 in the range(100,102)inclusive\n",
    "            "
   ]
  },
  {
   "cell_type": "code",
   "execution_count": 24,
   "metadata": {},
   "outputs": [
    {
     "name": "stdout",
     "output_type": "stream",
     "text": [
      "1\n",
      "2\n",
      "6\n",
      "24\n",
      "120\n"
     ]
    },
    {
     "data": {
      "text/plain": [
       "30.6"
      ]
     },
     "execution_count": 24,
     "metadata": {},
     "output_type": "execute_result"
    }
   ],
   "source": [
    "##  Function to Caluculate average of all factorials in a given range\n",
    "\n",
    "def factorial(n):\n",
    "    f=1\n",
    "    sum=0\n",
    "    c=0\n",
    "    for i in range(1,n+1):\n",
    "        f=f*i\n",
    "    print(f)\n",
    "    return f\n",
    "def factorialAvg(start,end):\n",
    "    sum=0\n",
    "    c=0\n",
    "    for n in range(start,end+1):\n",
    "        x=factorial(n)\n",
    "        sum+=x\n",
    "    \n",
    "            \n",
    "            \n",
    "    return sum/(end+1-start)\n",
    "factorialAvg(1,5)\n",
    "\n",
    "\n",
    " "
   ]
  },
  {
   "cell_type": "code",
   "execution_count": 45,
   "metadata": {},
   "outputs": [
    {
     "name": "stdout",
     "output_type": "stream",
     "text": [
      "153 371 407 "
     ]
    }
   ],
   "source": [
    "#Function to generate N odd armstrong numbers\n",
    "\n",
    "def isArmstrong(n):\n",
    "    r=0\n",
    "    temp=n\n",
    "    while(n!=0):\n",
    "        rem=n%10\n",
    "        r=r+rem*rem*rem\n",
    "        n=n//10\n",
    "    if temp==r:\n",
    "        return True\n",
    "        #print(r)\n",
    "#     else:\n",
    "#         print(\"Not Armstrong\")\n",
    "    return\n",
    "\n",
    "\n",
    "def armstrongRange(start,end):\n",
    "    for n in range(start,end+1):\n",
    "        if isArmstrong(n):\n",
    "            if n%2!=0:\n",
    "                print(n,end=\" \")\n",
    "    return \n",
    "armstrongRange(100,500)\n",
    "        \n",
    "    "
   ]
  },
  {
   "cell_type": "code",
   "execution_count": 84,
   "metadata": {},
   "outputs": [
    {
     "name": "stdout",
     "output_type": "stream",
     "text": [
      "1 x 1 = 1\n",
      "1 x 2 = 2\n",
      "1 x 3 = 3\n",
      "1 x 4 = 4\n",
      "1 x 5 = 5\n",
      "1 x 6 = 6\n",
      "1 x 7 = 7\n",
      "1 x 8 = 8\n",
      "1 x 9 = 9\n",
      "1 x 10 = 10\n",
      "2 x 1 = 2\n",
      "2 x 2 = 4\n",
      "2 x 3 = 6\n",
      "2 x 4 = 8\n",
      "2 x 5 = 10\n",
      "2 x 6 = 12\n",
      "2 x 7 = 14\n",
      "2 x 8 = 16\n",
      "2 x 9 = 18\n",
      "2 x 10 = 20\n",
      "3 x 1 = 3\n",
      "3 x 2 = 6\n",
      "3 x 3 = 9\n",
      "3 x 4 = 12\n",
      "3 x 5 = 15\n",
      "3 x 6 = 18\n",
      "3 x 7 = 21\n",
      "3 x 8 = 24\n",
      "3 x 9 = 27\n",
      "3 x 10 = 30\n",
      "4 x 1 = 4\n",
      "4 x 2 = 8\n",
      "4 x 3 = 12\n",
      "4 x 4 = 16\n",
      "4 x 5 = 20\n",
      "4 x 6 = 24\n",
      "4 x 7 = 28\n",
      "4 x 8 = 32\n",
      "4 x 9 = 36\n",
      "4 x 10 = 40\n",
      "5 x 1 = 5\n",
      "5 x 2 = 10\n",
      "5 x 3 = 15\n",
      "5 x 4 = 20\n",
      "5 x 5 = 25\n",
      "5 x 6 = 30\n",
      "5 x 7 = 35\n",
      "5 x 8 = 40\n",
      "5 x 9 = 45\n",
      "5 x 10 = 50\n",
      "6 x 1 = 6\n",
      "6 x 2 = 12\n",
      "6 x 3 = 18\n",
      "6 x 4 = 24\n",
      "6 x 5 = 30\n",
      "6 x 6 = 36\n",
      "6 x 7 = 42\n",
      "6 x 8 = 48\n",
      "6 x 9 = 54\n",
      "6 x 10 = 60\n",
      "7 x 1 = 7\n",
      "7 x 2 = 14\n",
      "7 x 3 = 21\n",
      "7 x 4 = 28\n",
      "7 x 5 = 35\n",
      "7 x 6 = 42\n",
      "7 x 7 = 49\n",
      "7 x 8 = 56\n",
      "7 x 9 = 63\n",
      "7 x 10 = 70\n",
      "8 x 1 = 8\n",
      "8 x 2 = 16\n",
      "8 x 3 = 24\n",
      "8 x 4 = 32\n",
      "8 x 5 = 40\n",
      "8 x 6 = 48\n",
      "8 x 7 = 56\n",
      "8 x 8 = 64\n",
      "8 x 9 = 72\n",
      "8 x 10 = 80\n",
      "9 x 1 = 9\n",
      "9 x 2 = 18\n",
      "9 x 3 = 27\n",
      "9 x 4 = 36\n",
      "9 x 5 = 45\n",
      "9 x 6 = 54\n",
      "9 x 7 = 63\n",
      "9 x 8 = 72\n",
      "9 x 9 = 81\n",
      "9 x 10 = 90\n",
      "10 x 1 = 10\n",
      "10 x 2 = 20\n",
      "10 x 3 = 30\n",
      "10 x 4 = 40\n",
      "10 x 5 = 50\n",
      "10 x 6 = 60\n",
      "10 x 7 = 70\n",
      "10 x 8 = 80\n",
      "10 x 9 = 90\n",
      "10 x 10 = 100\n"
     ]
    }
   ],
   "source": [
    "#Function to generate Multiplucation table for a number in a given range\n",
    "\n",
    "def istable(n):\n",
    "    for i in range(1,11):\n",
    "        print(n,\"x\",i,\"=\",n*i)\n",
    "    return \n",
    "#istable(2)\n",
    "def tablerange(start,end):\n",
    "    for n in range(start,end+1):\n",
    "        istable(n)\n",
    "        #print(a,end=\" \")\n",
    "    return \n",
    "tablerange(1,10)"
   ]
  },
  {
   "cell_type": "code",
   "execution_count": 136,
   "metadata": {},
   "outputs": [
    {
     "name": "stdout",
     "output_type": "stream",
     "text": [
      "2 3 5 7 "
     ]
    },
    {
     "data": {
      "text/plain": [
       "4"
      ]
     },
     "execution_count": 136,
     "metadata": {},
     "output_type": "execute_result"
    }
   ],
   "source": [
    "### print all primenumber,avg of those,and sum of those in a given range\n",
    "\n",
    "def isPrime(n):\n",
    "    c=0\n",
    "    for i in range(1,n+1):\n",
    "        if n%i==0:\n",
    "            c=c+1\n",
    "    if c==2:\n",
    "        return True\n",
    "    else:\n",
    "        return False\n",
    "\n",
    "def primeRange(start,end):\n",
    "    sum=0\n",
    "    c=0\n",
    "    for n in range(start,end+1):\n",
    "        if isPrime(n):\n",
    "            sum+=n\n",
    "            c=c+1\n",
    "            print(n,end=\" \")\n",
    "    return sum//c\n",
    "primeRange(1,10)\n",
    "            "
   ]
  },
  {
   "cell_type": "code",
   "execution_count": 149,
   "metadata": {},
   "outputs": [
    {
     "name": "stdout",
     "output_type": "stream",
     "text": [
      "101\n",
      "111\n",
      "121\n",
      "131\n",
      "141\n"
     ]
    },
    {
     "data": {
      "text/plain": [
       "121"
      ]
     },
     "execution_count": 149,
     "metadata": {},
     "output_type": "execute_result"
    }
   ],
   "source": [
    "## Palindram\n",
    "\n",
    "def pal(n):\n",
    "    rev=0\n",
    "    temp=n\n",
    "    while(n!=0):\n",
    "        rem=n%10\n",
    "        rev=rev*10+rem\n",
    "        n=n//10\n",
    "    if temp==rev:\n",
    "        return True\n",
    "#pal(122)\n",
    "\n",
    "def palrange(start,end):\n",
    "    c=0\n",
    "    sum=0\n",
    "    for n in range(start,end+1):\n",
    "        if pal(n):\n",
    "            sum+=n\n",
    "            c+=1\n",
    "            print(n)\n",
    "    return sum//c\n",
    "palrange(100,150)"
   ]
  },
  {
   "cell_type": "code",
   "execution_count": null,
   "metadata": {},
   "outputs": [],
   "source": []
  }
 ],
 "metadata": {
  "kernelspec": {
   "display_name": "Python 3",
   "language": "python",
   "name": "python3"
  },
  "language_info": {
   "codemirror_mode": {
    "name": "ipython",
    "version": 3
   },
   "file_extension": ".py",
   "mimetype": "text/x-python",
   "name": "python",
   "nbconvert_exporter": "python",
   "pygments_lexer": "ipython3",
   "version": "3.7.3"
  }
 },
 "nbformat": 4,
 "nbformat_minor": 2
}
