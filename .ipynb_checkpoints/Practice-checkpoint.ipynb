{
 "cells": [
  {
   "cell_type": "code",
   "execution_count": 7,
   "metadata": {},
   "outputs": [
    {
     "data": {
      "text/plain": [
       "[1, 4, 9, 16]"
      ]
     },
     "execution_count": 7,
     "metadata": {},
     "output_type": "execute_result"
    }
   ],
   "source": [
    "# n=int(input())\n",
    "squares = [n**2 for n in range(1,n+1)]\n",
    "squares"
   ]
  },
  {
   "cell_type": "code",
   "execution_count": 11,
   "metadata": {},
   "outputs": [
    {
     "name": "stdout",
     "output_type": "stream",
     "text": [
      "20\n"
     ]
    },
    {
     "data": {
      "text/plain": [
       "[2, 4, 6, 8, 10, 12, 14, 16, 18, 20]"
      ]
     },
     "execution_count": 11,
     "metadata": {},
     "output_type": "execute_result"
    }
   ],
   "source": [
    "n=int(input())\n",
    "evenlist =[n for n in range(1,n+1) if(n%2==0)]\n",
    "evenlist"
   ]
  },
  {
   "cell_type": "code",
   "execution_count": 12,
   "metadata": {},
   "outputs": [
    {
     "name": "stdout",
     "output_type": "stream",
     "text": [
      "10\n"
     ]
    },
    {
     "data": {
      "text/plain": [
       "[1, 3, 5, 7, 9]"
      ]
     },
     "execution_count": 12,
     "metadata": {},
     "output_type": "execute_result"
    }
   ],
   "source": [
    "n = int(input())\n",
    "oddlist = [n for n in range(1,n+1) if(n%2!=0)]\n",
    "oddlist"
   ]
  },
  {
   "cell_type": "code",
   "execution_count": 19,
   "metadata": {},
   "outputs": [
    {
     "data": {
      "text/plain": [
       "[1, 2, 3, 4]"
      ]
     },
     "execution_count": 19,
     "metadata": {},
     "output_type": "execute_result"
    }
   ],
   "source": [
    "## Commonn number\n",
    "list_a = [1,2,3,4,5]\n",
    "list_b =[1,2,3,4,7]\n",
    "comnlist = [a for a in list_a for b in list_b if(a==b)]\n",
    "comnlist"
   ]
  },
  {
   "cell_type": "code",
   "execution_count": 11,
   "metadata": {},
   "outputs": [
    {
     "name": "stdout",
     "output_type": "stream",
     "text": [
      "28\n",
      "True\n"
     ]
    }
   ],
   "source": [
    "n=int(input())\n",
    "su=0\n",
    "for i in range(1,n):\n",
    "    if n%i==0:\n",
    "        su=su+i\n",
    "if su==n:\n",
    "    print(True)\n",
    "else:\n",
    "    print(False)"
   ]
  },
  {
   "cell_type": "code",
   "execution_count": 20,
   "metadata": {},
   "outputs": [
    {
     "name": "stdout",
     "output_type": "stream",
     "text": [
      "100 100 200\n",
      "150\n"
     ]
    }
   ],
   "source": [
    "def uni(li):\n",
    "    sum=0\n",
    "    c=0\n",
    "    u=[]\n",
    "    for i in li:\n",
    "        if i not in u:\n",
    "            u.append(i)\n",
    "    #print(u)\n",
    "    for i in u:\n",
    "        if len(str(i))==3:\n",
    "            sum=sum+int(i)\n",
    "            c=c+1\n",
    "    print(sum//c)\n",
    "\n",
    "li=input().split()  \n",
    "uni(li)\n",
    "    \n",
    "    "
   ]
  },
  {
   "cell_type": "code",
   "execution_count": 32,
   "metadata": {},
   "outputs": [
    {
     "name": "stdout",
     "output_type": "stream",
     "text": [
      "3\n",
      "1 2 3\n",
      "6 5 4\n",
      "7 7 7 "
     ]
    }
   ],
   "source": [
    "n=int(input())\n",
    "a=input().split()\n",
    "b=input().split()\n",
    "for i in range(n):\n",
    "    print(int(a[i])+int(b[i]),end=' ')\n",
    "    \n",
    "    \n",
    "\n",
    "\n",
    "    \n",
    "\n",
    "    "
   ]
  },
  {
   "cell_type": "code",
   "execution_count": null,
   "metadata": {},
   "outputs": [],
   "source": [
    "6                                   \n",
    "1 1 1 2 2 0\n",
    "6\n",
    "1                       \n",
    "2\n",
    "1\n",
    "0\n",
    "3\n",
    "4"
   ]
  },
  {
   "cell_type": "code",
   "execution_count": null,
   "metadata": {},
   "outputs": [],
   "source": [
    "3\n",
    "2\n",
    "3\n",
    "1\n",
    "NOT PRESENT\n",
    "NOT PRESENT"
   ]
  },
  {
   "cell_type": "code",
   "execution_count": null,
   "metadata": {},
   "outputs": [],
   "source": [
    "\n",
    "\n",
    "n=int(input())\n",
    "c=0\n",
    "a=input().split()\n",
    "for i in range(n):\n",
    "    b=int(input())\n",
    "    else:\n",
    "        print(\"NOT PRESENT\")\n"
   ]
  },
  {
   "cell_type": "code",
   "execution_count": null,
   "metadata": {},
   "outputs": [],
   "source": []
  }
 ],
 "metadata": {
  "kernelspec": {
   "display_name": "Python 3",
   "language": "python",
   "name": "python3"
  },
  "language_info": {
   "codemirror_mode": {
    "name": "ipython",
    "version": 3
   },
   "file_extension": ".py",
   "mimetype": "text/x-python",
   "name": "python",
   "nbconvert_exporter": "python",
   "pygments_lexer": "ipython3",
   "version": "3.7.3"
  }
 },
 "nbformat": 4,
 "nbformat_minor": 2
}
