{
 "cells": [
  {
   "cell_type": "markdown",
   "metadata": {},
   "source": [
    "### Day Objectives\n",
    "- Maps\n",
    "- Lambda\n",
    "- Filter\n",
    "- Use cases-File/ Data Encryption\n"
   ]
  },
  {
   "cell_type": "markdown",
   "metadata": {},
   "source": [
    "### Map\n",
    "\n",
    "Mapping  - Entity with a function \n",
    "\n",
    "f : x^2 \n",
    "\n",
    "x : [1,10]\n",
    "\n",
    "f(x)\n",
    "\n",
    "f(1) -> 1\n",
    "f(2) -> 4\n",
    ".......\n",
    "\n",
    "Relation\n",
    "\n",
    "y = f(x)\n",
    "\n",
    " f:x^2 \n",
    "x      y\n",
    "1      1\n",
    "2      4\n",
    "3      9\n",
    "4      16\n",
    "5      25\n",
    "6      36\n",
    "7      49\n",
    "8      64\n",
    "9      81\n",
    "10     100\n",
    "\n",
    "map( function, Iterable )\n",
    "\n"
   ]
  },
  {
   "cell_type": "code",
   "execution_count": 2,
   "metadata": {},
   "outputs": [
    {
     "data": {
      "text/plain": [
       "1024"
      ]
     },
     "execution_count": 2,
     "metadata": {},
     "output_type": "execute_result"
    }
   ],
   "source": [
    "### Power Function\n",
    "\n",
    "def PowerN(a,n):\n",
    "#     return a**n\n",
    "    r = 1\n",
    "    for i in range(0,n):\n",
    "        r*=a\n",
    "    return r\n",
    "PowerN(2,10)\n",
    "\n",
    "def recursivepowerN(a,n):\n",
    "    if n == 0:\n",
    "        return 1\n",
    "    else:\n",
    "        return a*recursivepowerN(a,n-1)\n",
    "recursivepowerN(2,10)\n",
    "    \n",
    "    \n",
    "    \n",
    "    "
   ]
  },
  {
   "cell_type": "code",
   "execution_count": 75,
   "metadata": {},
   "outputs": [
    {
     "data": {
      "text/plain": [
       "[1, 8, 27, 64, 125, 216]"
      ]
     },
     "execution_count": 75,
     "metadata": {},
     "output_type": "execute_result"
    }
   ],
   "source": [
    "\n",
    "def Cube(n):\n",
    "    return n ** 3\n",
    "\n",
    "li = ['1','2','3','4','5','6']\n",
    "\n",
    "li2 = list(map(int, li))\n",
    "\n",
    "# list(map(float, li2))\n",
    "tuple(map(float, li2))\n",
    "\n",
    "numbers = [int(i) for i in li]\n",
    "\n",
    "[Cube(i) for i in numbers]\n",
    "\n"
   ]
  },
  {
   "cell_type": "markdown",
   "metadata": {},
   "source": [
    "\n",
    "### Filter\n",
    "\n",
    "- Used to check the boolean True values\n",
    "\n",
    "\n"
   ]
  },
  {
   "cell_type": "code",
   "execution_count": 33,
   "metadata": {},
   "outputs": [
    {
     "data": {
      "text/plain": [
       "['a', 'b', 'c']"
      ]
     },
     "execution_count": 33,
     "metadata": {},
     "output_type": "execute_result"
    }
   ],
   "source": [
    "\n",
    "li = [1,2,'a','b','c',3]\n",
    "def isDigit(c):\n",
    "    c = str(c)\n",
    "    if c.isdigit():\n",
    "        return 0\n",
    "    return 1\n",
    "\n",
    "isDigit('a')\n",
    "\n",
    "list(filter(isDigit, li))\n",
    "\n"
   ]
  },
  {
   "cell_type": "code",
   "execution_count": 1,
   "metadata": {},
   "outputs": [
    {
     "data": {
      "text/plain": [
       "[2, 3, 5, 7, 11]"
      ]
     },
     "execution_count": 1,
     "metadata": {},
     "output_type": "execute_result"
    }
   ],
   "source": [
    "####### Identify all Prime in a range\n",
    "\n",
    "li = [1,2,3,4,5,6,7,8,9,10,11]\n",
    "def is_Prime(n):\n",
    "    c=0\n",
    "    for i in range(1,n+1):\n",
    "        if(n%i==0):\n",
    "            c+=1\n",
    "    if(c==2):\n",
    "        return True\n",
    "    else:\n",
    "        return False\n",
    "is_Prime(1)\n",
    "# list(map(is_Prime,li))\n",
    "list(filter(is_Prime,li))\n"
   ]
  },
  {
   "cell_type": "code",
   "execution_count": 72,
   "metadata": {},
   "outputs": [
    {
     "name": "stdout",
     "output_type": "stream",
     "text": [
      "[503, 509, 521, 523, 541, 547, 557, 563, 569, 571, 577, 587, 593, 599]\n",
      "[503, 509, 521, 523, 541, 547, 557, 563, 569, 571, 577, 587, 593, 599]\n"
     ]
    }
   ],
   "source": [
    "    #### Another way to Prime range\n",
    "\n",
    "    def checkPrime(n):\n",
    "        if n < 2:\n",
    "            return False\n",
    "        for i in range(2,n//2 + 1):\n",
    "            if n % i == 0:\n",
    "                return False\n",
    "        return True\n",
    "    lb,ub = 500, 600\n",
    "    primeList = list(filter(checkPrime,range(500,600)))\n",
    "\n",
    "    primeList2 = [i for i in range(lb,ub+1) if checkPrime(i)]\n",
    "    \n",
    "    # Map\n",
    "    print(primeList)\n",
    "    print(primeList2)\n"
   ]
  },
  {
   "cell_type": "markdown",
   "metadata": {},
   "source": [
    "### Lambda\n",
    "\n",
    "- is keyword in Python\n",
    "- Greek word\n",
    " Anonymous Functions can be embedded into Lists Comprehension, Maps and Filters\n",
    " "
   ]
  },
  {
   "cell_type": "code",
   "execution_count": 98,
   "metadata": {},
   "outputs": [
    {
     "data": {
      "text/plain": [
       "[2, 4, 6]"
      ]
     },
     "execution_count": 98,
     "metadata": {},
     "output_type": "execute_result"
    }
   ],
   "source": [
    "a = lambda x : x ** 3\n",
    "list(map(lambda x:x**3, [1,2,3,4,5,6]))\n",
    "\n",
    "list(filter(lambda x:( x % 2 == 0), [1,2,3,4,5,6]))\n",
    "\n"
   ]
  },
  {
   "cell_type": "code",
   "execution_count": 120,
   "metadata": {},
   "outputs": [
    {
     "data": {
      "text/plain": [
       "[12, 14, 14]"
      ]
     },
     "execution_count": 120,
     "metadata": {},
     "output_type": "execute_result"
    }
   ],
   "source": [
    "from random import randint\n",
    "\n",
    "internal1 = [randint(0,25) for i in range(10)]\n",
    "internal2 = [randint(0,25) for i in range(10)]\n",
    "internal3 = [randint(0,25) for i in range(10)]\n",
    "\n",
    "averageInternal = list(map(lambda x,y,z: (x+y+z)//2, internal1,internal2,internal3))\n",
    "failedMarks = list(filter(lambda x: x < 15, averageInternal ))\n",
    "failedMarks"
   ]
  },
  {
   "cell_type": "markdown",
   "metadata": {},
   "source": [
    "### Applying Functional Programming to the Marks Analysis Applications"
   ]
  },
  {
   "cell_type": "code",
   "execution_count": 31,
   "metadata": {},
   "outputs": [],
   "source": [
    "\n",
    "## Generate Marks data\n",
    "from random import randint\n",
    "\n",
    "def generateMarks(n, lb, ub):\n",
    "    filename = 'DataFiles/student.txt'\n",
    "    with open(filename, 'w') as f:\n",
    "        for i in range(n):\n",
    "            marks = randint(lb,ub)\n",
    "            f.write(str(marks)+'\\n')\n",
    "    return\n",
    "generateMarks(10, 0, 100)\n",
    "            \n",
    "        \n",
    "        \n"
   ]
  },
  {
   "cell_type": "code",
   "execution_count": 16,
   "metadata": {},
   "outputs": [
    {
     "data": {
      "text/plain": [
       "51"
      ]
     },
     "execution_count": 16,
     "metadata": {},
     "output_type": "execute_result"
    }
   ],
   "source": [
    "#### Marks Analysis\n",
    "## Class Average, % of Passed,Failed and Distinction \n",
    "## Frequency of Highest &Lowest Mark.\n",
    "import re\n",
    "def readMarkList(filepath):\n",
    "    with open(filepath, 'r')as f:\n",
    "        filedata =f.read().split()\n",
    "    return list(map(int,filedata))\n",
    "\n",
    "def ClassAverage(filepath):\n",
    "    with open(filepath, 'r')as f:\n",
    "        filedata = f.read().split()\n",
    "        markslist = list(map(int, filedata))\n",
    "    return sum(markslist)//len(markslist)\n",
    "\n",
    "filepath='DataFiles/student.txt'\n",
    "ClassAverage(filepath)\n",
    "        "
   ]
  },
  {
   "cell_type": "code",
   "execution_count": 24,
   "metadata": {},
   "outputs": [
    {
     "data": {
      "text/plain": [
       "37.333333333333336"
      ]
     },
     "execution_count": 24,
     "metadata": {},
     "output_type": "execute_result"
    }
   ],
   "source": [
    "### Percentage Failed\n",
    "import re\n",
    "def readMarkList(filepath):\n",
    "    with open(filepath, 'r')as f:\n",
    "        filedata =f.read().split()\n",
    "    return list(map(int,filedata))\n",
    "\n",
    "def PercentageFailed(filepath):\n",
    "    markslist = readMarkList(filepath)\n",
    "    failedcount = len(list(filter(lambda mark : mark < 40, markslist)))\n",
    "    return (failedcount/len(markslist))*100\n",
    "PercentageFailed(filepath)"
   ]
  },
  {
   "cell_type": "code",
   "execution_count": 25,
   "metadata": {},
   "outputs": [
    {
     "data": {
      "text/plain": [
       "62.666666666666664"
      ]
     },
     "execution_count": 25,
     "metadata": {},
     "output_type": "execute_result"
    }
   ],
   "source": [
    "def PercentagePassed(filepath):\n",
    "    return 100 - PercentageFailed(filepath)\n",
    "PercentagePassed(filepath)\n",
    "    "
   ]
  },
  {
   "cell_type": "code",
   "execution_count": 26,
   "metadata": {},
   "outputs": [
    {
     "data": {
      "text/plain": [
       "28.999999999999996"
      ]
     },
     "execution_count": 26,
     "metadata": {},
     "output_type": "execute_result"
    }
   ],
   "source": [
    "def Percentageof_Distinction(filepath):\n",
    "    markslist = readMarkList(filepath)\n",
    "    distcount = len(list(filter(lambda mark:mark>70,markslist)))\n",
    "    return (distcount/len(markslist))*100\n",
    "Percentageof_Distinction(filepath)"
   ]
  },
  {
   "cell_type": "code",
   "execution_count": 33,
   "metadata": {},
   "outputs": [
    {
     "data": {
      "text/plain": [
       "[1]"
      ]
     },
     "execution_count": 33,
     "metadata": {},
     "output_type": "execute_result"
    }
   ],
   "source": [
    "def Highestfrequency(filepath):\n",
    "    markslist = readMarkList(filepath)\n",
    "    return [markslist.count(max(markslist))]\n",
    "Highestfrequency(filepath)"
   ]
  },
  {
   "cell_type": "code",
   "execution_count": 32,
   "metadata": {},
   "outputs": [
    {
     "data": {
      "text/plain": [
       "[1]"
      ]
     },
     "execution_count": 32,
     "metadata": {},
     "output_type": "execute_result"
    }
   ],
   "source": [
    "def Lowestfrequency(filepath):\n",
    "    markslist = readMarkList(filepath)\n",
    "    return [markslist.count(min(markslist))]\n",
    "Lowestfrequency(filepath)"
   ]
  },
  {
   "cell_type": "markdown",
   "metadata": {},
   "source": [
    "## Data Encryption\n",
    "\n",
    "Key - Mapping of characters with replaced\n",
    "\n",
    "0 --> 4 <br>\n",
    "1 --> 5 <br>\n",
    "2 --> 6 <br>\n",
    "3 --> 7 <br>\n",
    "4 --> 8 <br>\n",
    "5 --> 9 <br>\n",
    "6 --> 0 <br>\n",
    "7 --> 1 <br>\n",
    "8 --> 2 <br>\n",
    "9 --> 3 <br>\n",
    "\n",
    "0 4\n",
    "1 5\n",
    "2 6\n",
    "\n"
   ]
  },
  {
   "cell_type": "code",
   "execution_count": 40,
   "metadata": {},
   "outputs": [],
   "source": [
    "### Function to generate key for encryption \n",
    "keypath = 'DataFiles/key.txt'\n",
    "\n",
    "def GenerateKey(keypath):\n",
    "    with open(keypath, 'w') as f:\n",
    "        for i in range(10):\n",
    "            if i < 6:\n",
    "                f.write(str(i)+ ' ' + str(i+4)+'\\n')\n",
    "            else:\n",
    "                f.write(str(i)+ ' ' + str(i-6)+ '\\n')\n",
    "        return \n",
    "GenerateKey(keypath)\n",
    "            \n"
   ]
  },
  {
   "cell_type": "code",
   "execution_count": 13,
   "metadata": {},
   "outputs": [],
   "source": [
    "### Function to encrypt a data file\n",
    "keyfile = 'DataFiles/key.txt'\n",
    "def DictionaryKeyFile(keyfile):\n",
    "    key = {}\n",
    "    with open(keyfile, 'r')as f:\n",
    "        for line in f:\n",
    "            line = line.split()\n",
    "            key[line[0]] = line[1]\n",
    "    return key\n",
    "# DictionaryKeyFile(keyfile)\n",
    "def EncryptMarksData(datafile, keyfile):\n",
    "    # Construct  a dictionary for key data\n",
    "    key = DictionaryKeyFile(keyfile)\n",
    "    with open(datafile, 'r') as f:\n",
    "        filedata = f.read().split('\\n')\n",
    "    with open('DataFiles/encryptedMarks.txt', 'w')as f:\n",
    "        for mark in filedata:\n",
    "            line = ''\n",
    "            for n in mark:\n",
    "                line += key[n]\n",
    "            f.write(line+'\\n')\n",
    "    return \n",
    "datafile = 'DataFiles/student.txt'\n",
    "EncryptMarksData(datafile, keyfile)\n",
    "    "
   ]
  },
  {
   "cell_type": "code",
   "execution_count": null,
   "metadata": {},
   "outputs": [],
   "source": []
  },
  {
   "cell_type": "code",
   "execution_count": null,
   "metadata": {},
   "outputs": [],
   "source": []
  },
  {
   "cell_type": "code",
   "execution_count": null,
   "metadata": {},
   "outputs": [],
   "source": []
  },
  {
   "cell_type": "code",
   "execution_count": null,
   "metadata": {},
   "outputs": [],
   "source": []
  },
  {
   "cell_type": "markdown",
   "metadata": {},
   "source": [
    "### Assessment Programs of 29 june 2019"
   ]
  },
  {
   "cell_type": "code",
   "execution_count": 6,
   "metadata": {},
   "outputs": [
    {
     "name": "stdout",
     "output_type": "stream",
     "text": [
      "1 2 3 4 200 100 100 200\n",
      "150\n"
     ]
    }
   ],
   "source": [
    "def Average(li):\n",
    "    unique = []\n",
    "    c,sum =0,0\n",
    "    for i in li:\n",
    "        if i not in unique:\n",
    "            unique.append(i)\n",
    "    l=list(filter(lambda i: len(i)==3,unique))\n",
    "    for i in l:\n",
    "        sum+=int(i)\n",
    "        c+=1\n",
    "    print(sum//c)\n",
    "li=input().split()\n",
    "Average(li)"
   ]
  },
  {
   "cell_type": "code",
   "execution_count": 1,
   "metadata": {},
   "outputs": [
    {
     "name": "stdout",
     "output_type": "stream",
     "text": [
      "3\n",
      "6 3 9 15\n",
      "3\n",
      "1 2 3 4 5\n",
      "1\n",
      " 100 50 25 108\n",
      "8\n"
     ]
    }
   ],
   "source": [
    "def Division(li):\n",
    "    unique=[]\n",
    "    for i in range(len(li)-1):\n",
    "        for j in range(i+1,len(li)):\n",
    "            d=abs(int(li[i])-int(li[j]))\n",
    "            if d not in unique:\n",
    "                unique.append(d)\n",
    "    print(min(unique))\n",
    "t=int(input())\n",
    "for i in range(1,t+1):\n",
    "    li=input().split()\n",
    "    Division(li)"
   ]
  },
  {
   "cell_type": "code",
   "execution_count": 12,
   "metadata": {},
   "outputs": [
    {
     "name": "stdout",
     "output_type": "stream",
     "text": [
      "5\n",
      "f\n",
      "f\n",
      "f\n",
      "s\n",
      "d\n",
      "3\n",
      "f\n",
      "s\n",
      "d\n"
     ]
    }
   ],
   "source": [
    "def urls(l):\n",
    "    t=int(input())\n",
    "    unique =[]\n",
    "    u1 =[]\n",
    "    for i in range(t):\n",
    "        l=input()\n",
    "        unique.append(l)\n",
    "    for i in unique:\n",
    "         if i not in u1:\n",
    "            u1.append(i)\n",
    "    print(len(u1))\n",
    "    for i in u1:\n",
    "        print(i,end='\\n')\n",
    "urls(l)"
   ]
  },
  {
   "cell_type": "code",
   "execution_count": null,
   "metadata": {},
   "outputs": [],
   "source": []
  }
 ],
 "metadata": {
  "kernelspec": {
   "display_name": "Python 3",
   "language": "python",
   "name": "python3"
  }
 },
 "nbformat": 4,
 "nbformat_minor": 2
}
