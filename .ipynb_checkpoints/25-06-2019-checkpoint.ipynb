{
 "cells": [
  {
   "cell_type": "code",
   "execution_count": 10,
   "metadata": {},
   "outputs": [
    {
     "name": "stdout",
     "output_type": "stream",
     "text": [
      "a11472o5t6\n",
      "0 2 1 0 1 1 1 1 0 0 "
     ]
    }
   ],
   "source": [
    "# s= a11472o5t6   Output: 0 2 1 0 1 1 1 1  0 0 -> Frequency of sorted numbers\n",
    "\n",
    "# s=c\n",
    "# 0 0 0 0 0 0 0 0 0 0\n",
    "\n",
    "# s = 1234567890\n",
    "# 1 1 1 1 1 1 1 1 1 1\n",
    "def uniqueData(allnumbers):\n",
    "    unique = []\n",
    "    for n in allnumbers:\n",
    "        if n not in unique:\n",
    "            unique.append(n)\n",
    "    return unique\n",
    "s=input()\n",
    "def digitFrequency1(s):\n",
    "    allnumbers = []\n",
    "    for i in s:\n",
    "        if i.isdigit():\n",
    "            allnumbers.append(i)\n",
    "    unique = uniqueData(allnumbers)\n",
    "    for i in range(0,10):\n",
    "        if str(i) not in unique:\n",
    "            print(0,end=\" \")\n",
    "        else:\n",
    "            count = allnumbers.count(str(i))\n",
    "            print(count,end=\" \")\n",
    "digitFrequency1(s)\n",
    "\n"
   ]
  },
  {
   "cell_type": "markdown",
   "metadata": {},
   "source": [
    "#### Find and Replace Application\n",
    "- Check if a word is existing in a file\n",
    "    - wordExist(filepath,word)\n",
    "- Count the total number of occurences of a word in a file\n",
    "    - CountWordOccurences(filepath, word) \n",
    "- Replace all occurences of a word in a file\n",
    "    - replaceWord(filepath, word)\n",
    "    \n",
    "#### Marks Analysis Report\n",
    "- Generate Marks\n",
    "    - generateMarks(n, lb, ub)\n",
    "- Generate a report of the following \n",
    "    - Class Average - classAverage(filepath)\n",
    "    - % Passed - passPercentage(filepath)\n",
    "    - % Failed - failPercentage(filepath)\n",
    "    - % Distinction - distinctionPercentage(filepath)\n",
    "    - Frequency of Highest mark - frequencyHighest(filepath)\n",
    "    - Frequency of lowest mark- frequencyLowest(filepath)\n",
    "    - GenerateReport(filepath):\n",
    "    \n",
    "#### Contacts Application\n",
    "- addContact(name, phone, email)\n",
    "- SearchContact(name)\n",
    "- listContact()\n",
    "- editContact(name, newphone, newemail)\n",
    "- deleteContact(name)\n",
    "- contactsApp()\n",
    "\n",
    "    \n",
    "    "
   ]
  },
  {
   "cell_type": "code",
   "execution_count": 1,
   "metadata": {},
   "outputs": [
    {
     "name": "stdout",
     "output_type": "stream",
     "text": [
      "30 Marks Stored/Generated in file Sucessfully..!!\n"
     ]
    }
   ],
   "source": [
    "#### Generation of marks\n",
    "\n",
    "from random import randint\n",
    "def generateMarks(n,lb,ub):\n",
    "    filepath = 'DataFiles/marks.txt'\n",
    "    with open(filepath, 'w') as f:\n",
    "        for i in range(0,n):\n",
    "            r=randint(lb,ub)\n",
    "            f.write(str(r)+'\\n')\n",
    "    print(n,\"Marks Stored/Generated in file Sucessfully..!!\")\n",
    "generateMarks(30,1,100)\n",
    "    "
   ]
  },
  {
   "cell_type": "code",
   "execution_count": 2,
   "metadata": {},
   "outputs": [
    {
     "name": "stdout",
     "output_type": "stream",
     "text": [
      "52.5\n"
     ]
    }
   ],
   "source": [
    "### Class Average - classAverage(filepath)\n",
    "#Sum of marks/student count\n",
    "\n",
    "def classAverage(filepath):\n",
    "    sum=0\n",
    "    count=0\n",
    "    with open(filepath, 'r') as f:\n",
    "        for i in f:\n",
    "            sum=sum+int(i)\n",
    "            count=count+1\n",
    "    print(sum/count)\n",
    "filepath='DataFiles/marks.txt'\n",
    "classAverage(filepath)\n",
    "            "
   ]
  },
  {
   "cell_type": "code",
   "execution_count": 3,
   "metadata": {},
   "outputs": [
    {
     "name": "stdout",
     "output_type": "stream",
     "text": [
      "70.0\n"
     ]
    }
   ],
   "source": [
    "### Generate Pass % Percentage(filepath)\n",
    "## (passed count/total student)*100\n",
    "def PassPercentage(filepath):\n",
    "    count=0\n",
    "    mc=0\n",
    "    with open(filepath, 'r') as f:\n",
    "        for i in f:\n",
    "            mc=mc+1\n",
    "            if(int(i)>=35):\n",
    "                count=count+1\n",
    "        print((count/mc)*100)\n",
    "PassPercentage('DataFiles/marks.txt')\n"
   ]
  },
  {
   "cell_type": "code",
   "execution_count": 5,
   "metadata": {},
   "outputs": [
    {
     "name": "stdout",
     "output_type": "stream",
     "text": [
      "30.0\n"
     ]
    }
   ],
   "source": [
    "## Generate fail percentage\n",
    "\n",
    "def FailPercentage(filepath):\n",
    "    count=0\n",
    "    mc=0\n",
    "    with open(filepath, 'r') as f:\n",
    "        for i in f:\n",
    "            mc=mc+1\n",
    "            if(int(i)<35):\n",
    "                count=count+1\n",
    "        print((count/mc)*100)\n",
    "FailPercentage('DataFiles/marks.txt')\n"
   ]
  },
  {
   "cell_type": "code",
   "execution_count": 119,
   "metadata": {},
   "outputs": [
    {
     "data": {
      "text/plain": [
       "40.0"
      ]
     },
     "execution_count": 119,
     "metadata": {},
     "output_type": "execute_result"
    }
   ],
   "source": [
    "## Generate fail percentage\n",
    "\n",
    "def FailPercentage2(filepath):\n",
    "    fcount=abs(100-PassPercentage(filepath))\n",
    "    return (fcount)\n",
    "FailPercentage2('DataFiles/marks.txt')\n"
   ]
  },
  {
   "cell_type": "code",
   "execution_count": 7,
   "metadata": {},
   "outputs": [
    {
     "name": "stdout",
     "output_type": "stream",
     "text": [
      "26.666666666666668\n"
     ]
    }
   ],
   "source": [
    "### Distinction - distinctionPercentage(filepath)\n",
    "##(total Distinction count/total students count*100)\n",
    "\n",
    "def Distinction(filepath):\n",
    "    count=0\n",
    "    mc=0\n",
    "    with open(filepath, 'r')as f:\n",
    "        for i in f:\n",
    "            mc+=1\n",
    "            if(int(i)>=75):\n",
    "                count+=1\n",
    "        print((count/mc)*100)\n",
    "Distinction(filepath)\n"
   ]
  },
  {
   "cell_type": "code",
   "execution_count": 8,
   "metadata": {},
   "outputs": [
    {
     "name": "stdout",
     "output_type": "stream",
     "text": [
      "1\n"
     ]
    }
   ],
   "source": [
    "#### Frequency of Highest mark - frequencyHigest(filepath)\n",
    "\n",
    "def frequencyHighest(filepath):\n",
    "    with open(filepath, 'r') as f:\n",
    "        sp=f.read().split()\n",
    "        sp=list(map(int,sp))\n",
    "#         print(max(sp))\n",
    "        print(sp.count(max(sp)))\n",
    "        \n",
    "frequencyHighest('DataFiles/marks.txt')\n"
   ]
  },
  {
   "cell_type": "code",
   "execution_count": 9,
   "metadata": {},
   "outputs": [
    {
     "name": "stdout",
     "output_type": "stream",
     "text": [
      "1\n"
     ]
    }
   ],
   "source": [
    "#### Frequency of Lowest mark - frequencyHigest(filepath)\n",
    "\n",
    "def frequencyLowest(filepath):\n",
    "    with open(filepath, 'r') as f:\n",
    "        sp=f.read().split()\n",
    "        sp=list(map(int,sp))\n",
    "#         print(min(sp))\n",
    "        print(sp.count(min(sp)))\n",
    "        \n",
    "frequencyLowest('DataFiles/marks.txt')\n"
   ]
  },
  {
   "cell_type": "code",
   "execution_count": 10,
   "metadata": {
    "scrolled": true
   },
   "outputs": [
    {
     "name": "stdout",
     "output_type": "stream",
     "text": [
      "Choos Option :\n",
      "1).Generatation Marks\n",
      "2).Class Average\n",
      "3).passed Percentage\n",
      "4).failed Percentage\n",
      "5).Distinction Percentage\n",
      "6).Frequency of highest\n",
      "7).Frequency of lowest\n",
      "1\n",
      "50 Marks Stored/Generated in file Sucessfully..!!\n",
      "Choos Option :\n",
      "1).Generatation Marks\n",
      "2).Class Average\n",
      "3).passed Percentage\n",
      "4).failed Percentage\n",
      "5).Distinction Percentage\n",
      "6).Frequency of highest\n",
      "7).Frequency of lowest\n",
      "2\n",
      "49.06\n",
      "Choos Option :\n",
      "1).Generatation Marks\n",
      "2).Class Average\n",
      "3).passed Percentage\n",
      "4).failed Percentage\n",
      "5).Distinction Percentage\n",
      "6).Frequency of highest\n",
      "7).Frequency of lowest\n",
      "3\n",
      "60.0\n",
      "Choos Option :\n",
      "1).Generatation Marks\n",
      "2).Class Average\n",
      "3).passed Percentage\n",
      "4).failed Percentage\n",
      "5).Distinction Percentage\n",
      "6).Frequency of highest\n",
      "7).Frequency of lowest\n",
      "4\n",
      "40.0\n",
      "Choos Option :\n",
      "1).Generatation Marks\n",
      "2).Class Average\n",
      "3).passed Percentage\n",
      "4).failed Percentage\n",
      "5).Distinction Percentage\n",
      "6).Frequency of highest\n",
      "7).Frequency of lowest\n",
      "5\n",
      "30.0\n",
      "Choos Option :\n",
      "1).Generatation Marks\n",
      "2).Class Average\n",
      "3).passed Percentage\n",
      "4).failed Percentage\n",
      "5).Distinction Percentage\n",
      "6).Frequency of highest\n",
      "7).Frequency of lowest\n",
      "6\n",
      "1\n",
      "Choos Option :\n",
      "1).Generatation Marks\n",
      "2).Class Average\n",
      "3).passed Percentage\n",
      "4).failed Percentage\n",
      "5).Distinction Percentage\n",
      "6).Frequency of highest\n",
      "7).Frequency of lowest\n",
      "7\n",
      "2\n",
      "Choos Option :\n",
      "1).Generatation Marks\n",
      "2).Class Average\n",
      "3).passed Percentage\n",
      "4).failed Percentage\n",
      "5).Distinction Percentage\n",
      "6).Frequency of highest\n",
      "7).Frequency of lowest\n",
      "8\n"
     ]
    }
   ],
   "source": [
    "def marksAnalysis(filepath):\n",
    "    while(True):\n",
    "        n=int(input(\"Choos Option :\\n1).Generatation Marks\\n2).Class Average\\n3).passed Percentage\\n4).failed Percentage\\n5).Distinction Percentage\\n6).Frequency of highest\\n7).Frequency of lowest\\n\"))\n",
    "        if(n==1):\n",
    "            generateMarks(50,1,100)\n",
    "        elif(n==2):\n",
    "            classAverage(filepath)\n",
    "        elif(n==3):\n",
    "            PassPercentage(filepath)\n",
    "        elif(n==4):\n",
    "            FailPercentage(filepath)\n",
    "        elif(n==5):\n",
    "            Distinction(filepath)\n",
    "        elif(n==6):\n",
    "            frequencyHighest(filepath)\n",
    "        elif(n==7):\n",
    "            frequencyLowest(filepath)\n",
    "        else:\n",
    "            break\n",
    "filepath='DataFiles/marks.txt'\n",
    "marksAnalysis('DataFiles/marks.txt')\n",
    "        \n",
    "        \n",
    "        \n",
    "        \n",
    "        \n",
    "        "
   ]
  },
  {
   "cell_type": "markdown",
   "metadata": {},
   "source": [
    "### Contact Application"
   ]
  },
  {
   "cell_type": "code",
   "execution_count": 2,
   "metadata": {},
   "outputs": [
    {
     "data": {
      "text/plain": [
       "True"
      ]
     },
     "execution_count": 2,
     "metadata": {},
     "output_type": "execute_result"
    }
   ],
   "source": [
    "########\n",
    "import re\n",
    "def phoneNumberValidation(number):\n",
    "   pattern = '^[6-9][0-9]{9}$|[0][6-9][0-9]{9}$|[+][9][1][6-9][0-9]{9}$'\n",
    "   if re.match(pattern,str(number)):\n",
    "       return True\n",
    "   else:\n",
    "       return False\n",
    "\n",
    "phoneNumberValidation(8106410134)\n"
   ]
  },
  {
   "cell_type": "code",
   "execution_count": 5,
   "metadata": {},
   "outputs": [
    {
     "data": {
      "text/plain": [
       "True"
      ]
     },
     "execution_count": 5,
     "metadata": {},
     "output_type": "execute_result"
    }
   ],
   "source": [
    "\n",
    "def emailValidator(email):\n",
    "   pattern = \"^[0-9a-z][0-9a-z-.]{4,13}[0-9a-z][@][a-z0-9]{3,18}[.][a-z]{2,4}$\"\n",
    "   if re.match(pattern,email):\n",
    "       return True\n",
    "   return False\n",
    "emailValidator(\"nandini32@gmail.com\")\n"
   ]
  },
  {
   "cell_type": "code",
   "execution_count": 13,
   "metadata": {},
   "outputs": [],
   "source": [
    "def contact_exists(name):\n",
    "    filename ='DataFiles/contacts.txt'\n",
    "    with open(filename, 'r') as f:\n",
    "        p=name+','\n",
    "        fd=f.read()\n",
    "    return re.search(p,fd)\n"
   ]
  },
  {
   "cell_type": "code",
   "execution_count": null,
   "metadata": {},
   "outputs": [],
   "source": [
    "def addContact(name, phone, email):\n",
    "    filepath='DataFiles/contacts.txt'\n",
    "    if not contact_exists():\n",
    "        if emaiValidator(email) and phoneNumberValidation(phone):\n",
    "            with open(filepath, 'a')as f:\n",
    "                line=name+','+str(phone)+','+email+'\\n'\n",
    "                f.write(line)\n",
    "            print(name,\"is added to contacts list\")\n",
    "        else:\n",
    "            print('email or phone is invalid')\n",
    "        \n",
    "    else:\n",
    "        print(name,'already exists')\n",
    "    return \n"
   ]
  },
  {
   "cell_type": "code",
   "execution_count": 26,
   "metadata": {},
   "outputs": [
    {
     "name": "stdout",
     "output_type": "stream",
     "text": [
      "['Nandini,1234567889,Vanita.kamatham,765433211', 'lovely,12344545653,lovelyrasna@gmail.com']\n",
      "['Nandini', '1234567889', 'Vanita.kamatham', '765433211']\n",
      "['lovely', '12344545653', 'lovelyrasna@gmail.com']\n"
     ]
    },
    {
     "data": {
      "text/plain": [
       "['lovely', '12344545653', 'lovelyrasna@gmail.com']"
      ]
     },
     "execution_count": 26,
     "metadata": {},
     "output_type": "execute_result"
    }
   ],
   "source": [
    "##Search contacts\n",
    "\n",
    "def SearchContact(name):\n",
    "    filepath='DataFiles/contacts.txt'\n",
    "    if contact_exists(name):\n",
    "        with open(filepath, 'r')as f:\n",
    "            fd=f.read()\n",
    "            p='[\\n]'\n",
    "            lis=re.split(p,fd)\n",
    "            print(lis)\n",
    "            con=[]\n",
    "            for i in range(len(lis)):\n",
    "                con=lis[i].split(',')\n",
    "                print(con)\n",
    "                if name in con:\n",
    "                    return con\n",
    "    else:\n",
    "        print(\"Contact not Exists\")\n",
    "        return \n",
    "SearchContact('lovely')\n",
    "            \n",
    "    "
   ]
  },
  {
   "cell_type": "code",
   "execution_count": 40,
   "metadata": {},
   "outputs": [
    {
     "ename": "NameError",
     "evalue": "name 'phone' is not defined",
     "output_type": "error",
     "traceback": [
      "\u001b[1;31m---------------------------------------------------------------------------\u001b[0m",
      "\u001b[1;31mNameError\u001b[0m                                 Traceback (most recent call last)",
      "\u001b[1;32m<ipython-input-40-1bdad62003ed>\u001b[0m in \u001b[0;36m<module>\u001b[1;34m\u001b[0m\n\u001b[0;32m     14\u001b[0m     \u001b[1;32melse\u001b[0m\u001b[1;33m:\u001b[0m\u001b[1;33m\u001b[0m\u001b[1;33m\u001b[0m\u001b[0m\n\u001b[0;32m     15\u001b[0m         \u001b[0mprint\u001b[0m\u001b[1;33m(\u001b[0m\u001b[1;34m\"contact not exist\"\u001b[0m\u001b[1;33m)\u001b[0m\u001b[1;33m\u001b[0m\u001b[1;33m\u001b[0m\u001b[0m\n\u001b[1;32m---> 16\u001b[1;33m \u001b[0mmodifyContact\u001b[0m\u001b[1;33m(\u001b[0m\u001b[1;34m\"Nandini\"\u001b[0m\u001b[1;33m)\u001b[0m\u001b[1;33m\u001b[0m\u001b[1;33m\u001b[0m\u001b[0m\n\u001b[0m",
      "\u001b[1;32m<ipython-input-40-1bdad62003ed>\u001b[0m in \u001b[0;36mmodifyContact\u001b[1;34m(name)\u001b[0m\n\u001b[0;32m      8\u001b[0m                 \u001b[0mi\u001b[0m\u001b[1;33m=\u001b[0m\u001b[0mi\u001b[0m\u001b[1;33m.\u001b[0m\u001b[0msplit\u001b[0m\u001b[1;33m(\u001b[0m\u001b[1;34m','\u001b[0m\u001b[1;33m)\u001b[0m\u001b[1;33m\u001b[0m\u001b[1;33m\u001b[0m\u001b[0m\n\u001b[0;32m      9\u001b[0m                 \u001b[1;32mif\u001b[0m \u001b[0mi\u001b[0m\u001b[1;33m[\u001b[0m\u001b[1;36m0\u001b[0m\u001b[1;33m]\u001b[0m \u001b[1;33m==\u001b[0m \u001b[0mname\u001b[0m\u001b[1;33m:\u001b[0m\u001b[1;33m\u001b[0m\u001b[1;33m\u001b[0m\u001b[0m\n\u001b[1;32m---> 10\u001b[1;33m                     \u001b[0mi\u001b[0m\u001b[1;33m[\u001b[0m\u001b[1;36m1\u001b[0m\u001b[1;33m]\u001b[0m\u001b[1;33m=\u001b[0m\u001b[0mphone\u001b[0m\u001b[1;33m\u001b[0m\u001b[1;33m\u001b[0m\u001b[0m\n\u001b[0m\u001b[0;32m     11\u001b[0m                     \u001b[0mi\u001b[0m\u001b[1;33m[\u001b[0m\u001b[1;36m2\u001b[0m\u001b[1;33m]\u001b[0m\u001b[1;33m=\u001b[0m\u001b[0memail\u001b[0m\u001b[1;33m\u001b[0m\u001b[1;33m\u001b[0m\u001b[0m\n\u001b[0;32m     12\u001b[0m                     \u001b[0mf\u001b[0m\u001b[1;33m.\u001b[0m\u001b[0mwrite\u001b[0m\u001b[1;33m(\u001b[0m\u001b[0mi\u001b[0m\u001b[1;33m[\u001b[0m\u001b[1;36m1\u001b[0m\u001b[1;33m]\u001b[0m\u001b[1;33m+\u001b[0m\u001b[1;34m','\u001b[0m\u001b[1;33m+\u001b[0m\u001b[0mi\u001b[0m\u001b[1;33m[\u001b[0m\u001b[1;36m2\u001b[0m\u001b[1;33m]\u001b[0m\u001b[1;33m)\u001b[0m\u001b[1;33m\u001b[0m\u001b[1;33m\u001b[0m\u001b[0m\n",
      "\u001b[1;31mNameError\u001b[0m: name 'phone' is not defined"
     ]
    }
   ],
   "source": [
    "## Another way to search ocntact\n",
    "\n",
    "def modifyContact(name):\n",
    "    filepath='DataFiles/contacts.txt'\n",
    "    if contact_exists(name):\n",
    "        with open(filepath, 'r') as f:\n",
    "            for i in f:\n",
    "                i=i.split(',')\n",
    "                if i[0] == name:\n",
    "                    i[1]=phone\n",
    "                    i[2]=email\n",
    "                    f.write(i[1]+','+i[2])\n",
    "                print(i[0],i[1],i[2])\n",
    "    else:\n",
    "        print(\"contact not exist\")\n",
    "modifyContact(\"Nandini\")"
   ]
  },
  {
   "cell_type": "code",
   "execution_count": 39,
   "metadata": {},
   "outputs": [
    {
     "name": "stdout",
     "output_type": "stream",
     "text": [
      "['Nandini,1234567889,Vanita.kamatham,765433211', 'lovely,12344545653,lovelyrasna@gmail.com']\n"
     ]
    }
   ],
   "source": [
    "### ListContacts\n",
    "def listContacts():\n",
    "    filepath='DataFiles/contacts.txt'\n",
    "    with open(filepath, 'r') as f:\n",
    "        x=f.read().split()\n",
    "        if len(x)!=0:\n",
    "            print(x)\n",
    "#             for i in f.read():\n",
    "#                 print(i)\n",
    "        else:\n",
    "            print('Empty Not Exist')\n",
    "    return \n",
    "listContacts()"
   ]
  },
  {
   "cell_type": "code",
   "execution_count": 17,
   "metadata": {},
   "outputs": [
    {
     "data": {
      "text/plain": [
       "True"
      ]
     },
     "execution_count": 17,
     "metadata": {},
     "output_type": "execute_result"
    }
   ],
   "source": [
    "### Function to check if two string\n",
    "## abc cba -> True\n",
    "## abc abc\n",
    "## aabbcc ccbbaaa -> False\n",
    "# aabbcc aaabbcc\n",
    "\n",
    "def checkAnagrams(s1,s2):\n",
    "    if len(s1) != len(s2):\n",
    "        return False\n",
    "    if sorted(s1) == sorted(s2):\n",
    "        return True\n",
    "    return False\n",
    "checkAnagrams('abc','bca')\n",
    "    \n",
    "\n"
   ]
  },
  {
   "cell_type": "code",
   "execution_count": 23,
   "metadata": {},
   "outputs": [
    {
     "data": {
      "text/plain": [
       "'b'"
      ]
     },
     "execution_count": 23,
     "metadata": {},
     "output_type": "execute_result"
    }
   ],
   "source": [
    "## \n",
    "def kLargestFrequency(s, k):\n",
    "    # Construct the frequency dictionary\n",
    "    unique = []\n",
    "    freq = {}\n",
    "    for i in s:\n",
    "        if i not in freq.keys():\n",
    "            freq[i] = s.count(i)\n",
    "    ## Extract unique  frequencies in descending order\n",
    "    values = sorted(freq.values(), reverse=True)\n",
    "    uniqueValues = list(set(values))\n",
    "    uniqueValues = sorted(uniqueValues, reverse=True)\n",
    "    \n",
    "    ## Identify Kth largest frequency\n",
    "    \n",
    "    if k <= len(freq.keys()):\n",
    "        kvalue= uniqueValues[k-1]\n",
    "    else:\n",
    "        return -1\n",
    "    ## Get all elements with Kth largest \n",
    "    \n",
    "    li=[]\n",
    "    for item in freq.items():\n",
    "        if item[1]== kvalue:\n",
    "            li.append(item[0])\n",
    "    ## Minimum of Kth Largest frequency \n",
    "    return min(li)\n",
    "kLargestFrequency('aabcd',2)\n",
    "            \n",
    "    \n",
    "    \n",
    "            \n",
    "            "
   ]
  },
  {
   "cell_type": "code",
   "execution_count": null,
   "metadata": {},
   "outputs": [],
   "source": []
  }
 ],
 "metadata": {
  "kernelspec": {
   "display_name": "Python 3",
   "language": "python",
   "name": "python3"
  },
  "language_info": {
   "codemirror_mode": {
    "name": "ipython",
    "version": 3
   },
   "file_extension": ".py",
   "mimetype": "text/x-python",
   "name": "python",
   "nbconvert_exporter": "python",
   "pygments_lexer": "ipython3",
   "version": "3.7.3"
  }
 },
 "nbformat": 4,
 "nbformat_minor": 2
}
