{
 "cells": [
  {
   "cell_type": "code",
   "execution_count": null,
   "metadata": {},
   "outputs": [],
   "source": [
    "## Contacts Application\n",
    "    # Add, Search, List, Modify Delete contacts\n",
    "    \n",
    "## Find and Replace Application\n",
    "    # Count the total number of occurances\n",
    "    # If word is existing \n",
    "    # Replace all occurances of a word with another\n",
    "    \n",
    "    \n",
    "## Marks Analysis Application\n",
    "        # Generate marks file for n students\n",
    "        # Input : Marks text file - each line contains marks of one students \n",
    "        # Generates a report with the following information\n",
    "            # Class Average \n",
    "            # % of students passed\n",
    "            # % of students failed\n",
    "            # % of students with distinction\n",
    "            # Highest Mark Frequency\n",
    "            # Lowest Mark Frequency"
   ]
  },
  {
   "cell_type": "code",
   "execution_count": 2,
   "metadata": {},
   "outputs": [],
   "source": [
    "## Function t generate marks data for n students\n",
    "from random import randint\n",
    "\n",
    "def generateMarks(n, lb, ub):\n",
    "    with open('DataFiles/marks.txt','w')as f:\n",
    "        for i in range(0,n):\n",
    "            r=randint(lb, ub)\n",
    "            f.write(str(r) + '\\n')\n",
    "            \n",
    "    return\n",
    "generateMarks(10000,0,100)"
   ]
  },
  {
   "cell_type": "code",
   "execution_count": 5,
   "metadata": {},
   "outputs": [
    {
     "name": "stdout",
     "output_type": "stream",
     "text": [
      "2 3 5 7 11 13 17 19 23 29 31 37 41 43 47 53 59 61 67 71 73 79 83 89 97 "
     ]
    }
   ],
   "source": []
  },
  {
   "cell_type": "code",
   "execution_count": null,
   "metadata": {},
   "outputs": [],
   "source": [
    "dfg"
   ]
  }
 ],
 "metadata": {
  "kernelspec": {
   "display_name": "Python 3",
   "language": "python",
   "name": "python3"
  },
  "language_info": {
   "codemirror_mode": {
    "name": "ipython",
    "version": 3
   },
   "file_extension": ".py",
   "mimetype": "text/x-python",
   "name": "python",
   "nbconvert_exporter": "python",
   "pygments_lexer": "ipython3",
   "version": "3.7.3"
  }
 },
 "nbformat": 4,
 "nbformat_minor": 2
}
