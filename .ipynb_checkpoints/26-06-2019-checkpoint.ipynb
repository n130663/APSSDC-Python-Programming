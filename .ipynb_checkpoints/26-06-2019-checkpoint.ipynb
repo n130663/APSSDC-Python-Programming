{
 "cells": [
  {
   "cell_type": "code",
   "execution_count": 2,
   "metadata": {},
   "outputs": [
    {
     "data": {
      "text/plain": [
       "8"
      ]
     },
     "execution_count": 2,
     "metadata": {},
     "output_type": "execute_result"
    }
   ],
   "source": [
    "## Function to find Second Largest number in a list\n",
    "\n",
    "def secondlargest(li):\n",
    "    unique = []\n",
    "    for n in li:\n",
    "        if n not in unique:\n",
    "            unique.append(n)\n",
    "    unique = sorted(unique,reverse=True)\n",
    "    return unique[1]\n",
    "secondlargest([7,8,9])\n"
   ]
  },
  {
   "cell_type": "code",
   "execution_count": 6,
   "metadata": {},
   "outputs": [
    {
     "data": {
      "text/plain": [
       "2"
      ]
     },
     "execution_count": 6,
     "metadata": {},
     "output_type": "execute_result"
    }
   ],
   "source": [
    "## Function to find Fifth Largest number in a list\n",
    "\n",
    "def Fifthlargest(li):\n",
    "    unique = []\n",
    "    for n in li:\n",
    "        if n not in unique:\n",
    "            unique.append(n)\n",
    "    unique = sorted(unique,reverse=True)\n",
    "    return unique[5]\n",
    "Fifthlargest([1,2,2,3,4,5,6,7])\n"
   ]
  },
  {
   "cell_type": "code",
   "execution_count": 7,
   "metadata": {},
   "outputs": [
    {
     "name": "stdout",
     "output_type": "stream",
     "text": [
      "4\n"
     ]
    },
    {
     "data": {
      "text/plain": [
       "5"
      ]
     },
     "execution_count": 7,
     "metadata": {},
     "output_type": "execute_result"
    }
   ],
   "source": [
    "## Function to find KLargest number in a list\n",
    "\n",
    "def Klargest(li):\n",
    "    unique = []\n",
    "    for n in li:\n",
    "        if n not in unique:\n",
    "            unique.append(n)\n",
    "    unique = sorted(unique,reverse=True)\n",
    "    if len(unique)>k:\n",
    "        return unique[k-1]\n",
    "    else:\n",
    "        return -1\n",
    "k=int(input())\n",
    "Klargest([1,2,3,4,5,6,7,8])\n"
   ]
  },
  {
   "cell_type": "code",
   "execution_count": 8,
   "metadata": {},
   "outputs": [
    {
     "name": "stdout",
     "output_type": "stream",
     "text": [
      "3\n"
     ]
    },
    {
     "data": {
      "text/plain": [
       "3"
      ]
     },
     "execution_count": 8,
     "metadata": {},
     "output_type": "execute_result"
    }
   ],
   "source": [
    "## Function to find Ksmallest number in a list\n",
    "\n",
    "def ksmallest(li):\n",
    "    unique = []\n",
    "    for n in li:\n",
    "        if n not in unique:\n",
    "            unique.append(n)\n",
    "    unique = sorted(unique)\n",
    "    if len(unique)>k:\n",
    "        return unique[k-1]\n",
    "    else:\n",
    "        return -1\n",
    "k=int(input())\n",
    "ksmallest([1,2,3,4,5,6,7,8])\n"
   ]
  },
  {
   "cell_type": "code",
   "execution_count": 14,
   "metadata": {},
   "outputs": [
    {
     "data": {
      "text/plain": [
       "1"
      ]
     },
     "execution_count": 14,
     "metadata": {},
     "output_type": "execute_result"
    }
   ],
   "source": [
    "##### Write a function to identify the elemen\n",
    "\n",
    "def Highestfreq(li):\n",
    "    unique = {}\n",
    "    for n in li:\n",
    "        if n in unique.keys():\n",
    "            unique[n] +=1\n",
    "        else:\n",
    "            unique[n] = 1\n",
    "    freq=unique.values()\n",
    "    maxfreq = max(freq)\n",
    "    maxfreqE=[]\n",
    "    for item in unique.items():\n",
    "        if item[1]==maxfreq:\n",
    "            maxfreqE.append(item[0])\n",
    "    return min(maxfreqE)\n",
    "Highestfreq([1,2,3,1,1,2])"
   ]
  },
  {
   "cell_type": "code",
   "execution_count": 18,
   "metadata": {},
   "outputs": [
    {
     "name": "stdout",
     "output_type": "stream",
     "text": [
      "2\n",
      "{1: 2, 2: 2, 3: 1, 4: 2, 9: 1}\n",
      "[1, 1, 2, 2, 2]\n"
     ]
    },
    {
     "data": {
      "text/plain": [
       "9"
      ]
     },
     "execution_count": 18,
     "metadata": {},
     "output_type": "execute_result"
    }
   ],
   "source": [
    "def SecondHighestFreq(li):\n",
    "    unique = {}\n",
    "    for n in li:\n",
    "        if n in unique.keys():\n",
    "            unique[n] +=1\n",
    "        else:\n",
    "            unique[n] = 1\n",
    "    print(unique)\n",
    "    un=sorted(unique.values())\n",
    "    print(un)\n",
    "    unique2=[]\n",
    "    for n in un:\n",
    "        if n not in unique2:\n",
    "            unique2.append(n)\n",
    "    uv=unique2[-k]\n",
    "    maxkeys=[]\n",
    "    for item in unique.items():\n",
    "        if item[1]==uv:\n",
    "            maxkeys.append(item[0])\n",
    "    return max(maxkeys)\n",
    "k=int(input())\n",
    "SecondHighestFreq([1,2,3,2,1,4,4,9])\n",
    "    "
   ]
  },
  {
   "cell_type": "code",
   "execution_count": 21,
   "metadata": {},
   "outputs": [
    {
     "data": {
      "text/plain": [
       "[8, 5, 2, 3, 4]"
      ]
     },
     "execution_count": 21,
     "metadata": {},
     "output_type": "execute_result"
    }
   ],
   "source": [
    "def KHighestFreq(li,k):\n",
    "    unique = {}\n",
    "    for n in li:\n",
    "        if n in unique.keys():\n",
    "            unique[n] +=1\n",
    "        else:\n",
    "            unique[n] = 1\n",
    "    uniquefreq=[]\n",
    "    for value in unique.values():\n",
    "        if value not in uniquefreq:\n",
    "            uniquefreq.append(value)\n",
    "            \n",
    "    uniquefreq=sorted(uniquefreq,reverse=True)\n",
    "    kfreq=uniquefreq[k-1]\n",
    "    kfreqchar=[]\n",
    "    for key in unique.items():\n",
    "        if key[1]==kfreq:\n",
    "            kfreqchar.append(key[0])\n",
    "    return kfreqchar\n",
    "KHighestFreq([9,8,7,6,5,2,3,4,9,6,7,7,6,7,6],3)"
   ]
  },
  {
   "cell_type": "code",
   "execution_count": null,
   "metadata": {},
   "outputs": [],
   "source": []
  }
 ],
 "metadata": {
  "kernelspec": {
   "display_name": "Python 3",
   "language": "python",
   "name": "python3"
  },
  "language_info": {
   "codemirror_mode": {
    "name": "ipython",
    "version": 3
   },
   "file_extension": ".py",
   "mimetype": "text/x-python",
   "name": "python",
   "nbconvert_exporter": "python",
   "pygments_lexer": "ipython3",
   "version": "3.7.3"
  }
 },
 "nbformat": 4,
 "nbformat_minor": 2
}
