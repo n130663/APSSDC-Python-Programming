{
 "cells": [
  {
   "cell_type": "code",
   "execution_count": null,
   "metadata": {},
   "outputs": [
    {
     "name": "stdout",
     "output_type": "stream",
     "text": [
      "6\n",
      "85\n",
      "96 WS\n",
      "13\n",
      "24 WS\n"
     ]
    }
   ],
   "source": [
    "#### Seating Arrangments hackerearthi problem\n",
    "\n",
    "n=int(input())\n",
    "for i in range(1,n+1):\n",
    "    a=int(input())\n",
    "    if(a%12==1):\n",
    "        print((a)+11,'WS')\n",
    "    elif(a%12==2):\n",
    "        print(a+9,'MS')\n",
    "    elif(a%12==3):\n",
    "        print((a)+7,'AS')\n",
    "    elif(a%12==4):\n",
    "        print((a)+5,'AS')\n",
    "    elif(a%12==5):\n",
    "        print((a)+3,'MS')\n",
    "    elif(a%12==6):\n",
    "        print((a)+1,'WS')\n",
    "    elif(a%12==0):\n",
    "        print(a-11,'WS')\n",
    "    elif(a%12==7):\n",
    "        print((a)-1,'WS')\n",
    "    elif(a%12==8):\n",
    "        print((a)-3,'MS')\n",
    "    elif(a%12==9):\n",
    "        print((a)-5,'AS')\n",
    "    elif(a%12==10):\n",
    "        print((a)-7,'AS')\n",
    "    elif(a%12==11):\n",
    "        print((a)-9,'MS')\n",
    "    elif(a%12==12):\n",
    "        print((a)-11,'WS')\n",
    "#     elif(a%12==0):\n",
    "#         print(a+1,'WS')\n",
    "    \n",
    "    else:\n",
    "        print(no)\n",
    "        \n",
    "   \n",
    "    \n",
    "    \n",
    "    \n",
    "    \n",
    "        \n",
    "        \n",
    "    "
   ]
  },
  {
   "cell_type": "markdown",
   "metadata": {},
   "source": [
    "## Date : 22 June 2019\n",
    "\n",
    "### Day Objectives\n",
    "- File Handling\n",
    "    - Basic File Data Processing\n",
    "        - Accessing and Modifying File Data\n",
    "    - Character Count \n",
    "    - Line Count\n",
    "    - File Size\n",
    "    - Word Count\n",
    "    - Unique Word Count\n",
    "    \n",
    "    "
   ]
  },
  {
   "cell_type": "code",
   "execution_count": 27,
   "metadata": {},
   "outputs": [
    {
     "name": "stdout",
     "output_type": "stream",
     "text": [
      "New Data\n",
      "Line1\n",
      "Line2\n",
      "Line3\n",
      "\n"
     ]
    }
   ],
   "source": [
    "## Read a File - File should exist (Read Mode) \n",
    "## Write to a File - Existing (append) or New File (Write Mode)\n",
    "\n",
    "## Function to read entire file data into a string\n",
    "def readFile(filePath):\n",
    "    with open(filePath, 'r') as f:\n",
    "        filedata = f.read()\n",
    "    return filedata\n",
    "\n",
    "filePath = 'DataFiles/data.txt'\n",
    "print(readFile(filePath))\n"
   ]
  },
  {
   "cell_type": "code",
   "execution_count": 16,
   "metadata": {},
   "outputs": [
    {
     "name": "stdout",
     "output_type": "stream",
     "text": [
      "26\n"
     ]
    }
   ],
   "source": [
    "#### CHARACTER COUNT\n",
    "\n",
    "def readFile(filePath):\n",
    "    c=0\n",
    "    with open(filePath, 'r') as f:\n",
    "        filedata = f.read()\n",
    "        for i in range(1,len(filedata)):\n",
    "            c+=1\n",
    "    print(c)\n",
    "\n",
    "filePath = 'DataFiles/data.txt'\n",
    "readFile(filePath)\n"
   ]
  },
  {
   "cell_type": "code",
   "execution_count": 31,
   "metadata": {},
   "outputs": [
    {
     "name": "stdout",
     "output_type": "stream",
     "text": [
      "4\n"
     ]
    }
   ],
   "source": [
    "#### LINE COUNT\n",
    "def lineCount(filepath):\n",
    "    c=0\n",
    "    with open(filepath,'r')as f:\n",
    "        for i in f:\n",
    "            c+=1\n",
    "    print(c)\n",
    "        #lines=filedata.split()('\\n')\n",
    "    #return lines\n",
    "filepath = 'DataFiles/data.txt'\n",
    "lineCount(filepath)\n",
    "        "
   ]
  },
  {
   "cell_type": "code",
   "execution_count": 59,
   "metadata": {},
   "outputs": [
    {
     "name": "stdout",
     "output_type": "stream",
     "text": [
      "172\n"
     ]
    }
   ],
   "source": [
    "#### Function to find the size of the character count\n",
    "\n",
    "def SizeOfFile(filepath):\n",
    "    c=0\n",
    "    with open(filepath, 'r') as f:\n",
    "        filedata=f.read()\n",
    "        for i in range(1,len(filedata)):\n",
    "            c+=1\n",
    "        print(c*4)\n",
    "filepath='DataFiles/data.txt'\n",
    "SizeOfFile(filepath)\n",
    "        "
   ]
  },
  {
   "cell_type": "code",
   "execution_count": 30,
   "metadata": {},
   "outputs": [
    {
     "data": {
      "text/plain": [
       "'New Data\\nLine1\\nLine2\\nLine3\\n'"
      ]
     },
     "execution_count": 30,
     "metadata": {},
     "output_type": "execute_result"
    }
   ],
   "source": [
    "#### ANOTHER WAY TO CHARACTER COUNT\n",
    "def charCountFile(filepath):\n",
    "    count=read(filepath)\n",
    "    return count\n",
    "charCountFile(filepath)\n"
   ]
  },
  {
   "cell_type": "code",
   "execution_count": 60,
   "metadata": {},
   "outputs": [
    {
     "name": "stdout",
     "output_type": "stream",
     "text": [
      "['Data in Line 1', 'Data in line 2', 'Data in line 3']\n"
     ]
    },
    {
     "data": {
      "text/plain": [
       "3"
      ]
     },
     "execution_count": 60,
     "metadata": {},
     "output_type": "execute_result"
    }
   ],
   "source": [
    "### WORD COUNT\n",
    "import re\n",
    "def wordCountFile(filepath):\n",
    "    pattern = '[\\n]'\n",
    "    filedata= readFile(filepath)\n",
    "    count=len(re.split(pattern,filedata))\n",
    "    print(re.split(pattern,filedata))\n",
    "    return count\n",
    "\n",
    "# filePath = 'DataFiles/data.txt'\n",
    "wordCountFile(filepath)\n",
    "\n"
   ]
  },
  {
   "cell_type": "code",
   "execution_count": 61,
   "metadata": {},
   "outputs": [
    {
     "name": "stdout",
     "output_type": "stream",
     "text": [
      "['D', 'a', 't', ' ', 'i', 'n', 'L', 'e', '1', '\\n', 'l', '2', '3']\n"
     ]
    }
   ],
   "source": [
    "### Function to find the unique words of the data in a file\n",
    "\n",
    "def Unique(filepath):\n",
    "    unique=[]\n",
    "    with open(filepath, 'r') as f:\n",
    "        filedata=f.read()\n",
    "        for i in filedata:\n",
    "            if i not in unique:\n",
    "                unique.append(i)\n",
    "        print(unique)\n",
    "filepath='DataFiles/data.txt'\n",
    "Unique(filepath)"
   ]
  },
  {
   "cell_type": "code",
   "execution_count": 32,
   "metadata": {},
   "outputs": [
    {
     "data": {
      "text/plain": [
       "[1, 2, 3]"
      ]
     },
     "execution_count": 32,
     "metadata": {},
     "output_type": "execute_result"
    }
   ],
   "source": [
    "## Function to get unique elements in a list\n",
    "\n",
    "## [1,2,3,3,2,1] -> [1,2,3]\n",
    "## Create a empty unique list [1,2,3]\n",
    "\n",
    "def uniqueData(li):\n",
    "    #Create an empty unique list\n",
    "    unique=[]\n",
    "    #For every element in the main list,\n",
    "                   #check if it exists in the unique list.\n",
    "                   #If if does not exists,add it to unique list\n",
    "                   #else if it already exists,move on to the next element in the main list\n",
    "    for element in li:\n",
    "        if element not in unique:\n",
    "            unique.append(element)\n",
    "    return unique\n",
    "\n",
    "li=[1,2,3,3,2,1]\n",
    "uniqueData(li)\n",
    "            \n",
    "        "
   ]
  },
  {
   "cell_type": "code",
   "execution_count": null,
   "metadata": {},
   "outputs": [],
   "source": []
  },
  {
   "cell_type": "code",
   "execution_count": 44,
   "metadata": {},
   "outputs": [
    {
     "data": {
      "text/plain": [
       "(['D', 'a', 't', ' ', 'i', 'n', 'L', 'e', '1', '\\n', 'l', '2', '3'], 13)"
      ]
     },
     "execution_count": 44,
     "metadata": {},
     "output_type": "execute_result"
    }
   ],
   "source": [
    "### Function to count the number of unique words in a text file\n",
    "\n",
    "def UniqueWordsCount(filepath):\n",
    "    unique=[]\n",
    "    c=0\n",
    "    with open(filePath, 'r') as f:\n",
    "        filedata = f.read()\n",
    "    for i in filedata:\n",
    "        if i not in unique:\n",
    "            unique.append(i)\n",
    "            c=c+1\n",
    "    return unique,c\n",
    "filepath='DataFiles\\data.txt'\n",
    "UniqueWordsCount(filepath)\n",
    "            \n",
    "    "
   ]
  },
  {
   "cell_type": "code",
   "execution_count": 65,
   "metadata": {},
   "outputs": [
    {
     "name": "stdout",
     "output_type": "stream",
     "text": [
      "['Data', 'in', 'Line', '1', 'Data', 'in', 'line', '2', 'Data', 'in', 'line', '3']\n",
      "['Data', 'in', 'Line', '1', 'line', '2', '3']\n",
      "Data : 3\n",
      "in : 3\n",
      "Line : 1\n",
      "1 : 1\n",
      "line : 2\n",
      "2 : 1\n",
      "3 : 1\n"
     ]
    }
   ],
   "source": [
    "### Function to print the frequency count of all words in a file\n",
    "### Frequency Distribution\n",
    "\n",
    "# Data in Line 1\n",
    "# Data in line 2\n",
    "# Data in line 3\n",
    "# O/P :3\n",
    "# Data :3\n",
    "# in : 3\n",
    "# 1:1\n",
    "# 2:1\n",
    "# 3:1\n",
    "def Unique(filepath):\n",
    "    unique=[]\n",
    "    freq=[]\n",
    "    with open(filepath, 'r') as f:\n",
    "        filedata=f.read().split()\n",
    "    print(filedata)\n",
    "    for element in filedata:\n",
    "        if element not in unique:\n",
    "            unique.append(element)\n",
    "    print(unique)\n",
    "    for i in unique:\n",
    "        print(i,':',filedata.count(i))\n",
    "        \n",
    "filepath='DataFiles/data.txt'\n",
    "Unique(filepath)\n",
    "            \n",
    "    \n",
    "\n"
   ]
  },
  {
   "cell_type": "code",
   "execution_count": null,
   "metadata": {},
   "outputs": [],
   "source": []
  },
  {
   "cell_type": "code",
   "execution_count": null,
   "metadata": {},
   "outputs": [],
   "source": []
  },
  {
   "cell_type": "code",
   "execution_count": null,
   "metadata": {},
   "outputs": [],
   "source": []
  },
  {
   "cell_type": "code",
   "execution_count": 15,
   "metadata": {},
   "outputs": [
    {
     "name": "stdout",
     "output_type": "stream",
     "text": [
      "3\n",
      "5 2\n",
      "3 2\n",
      "1 2\n",
      "3\n"
     ]
    }
   ],
   "source": [
    "### AMAR AND SHARMA PROGRAM OF HACKERRANK \n",
    "\n",
    "\n",
    "days=int(input())\n",
    "for i in range(1,days+1):\n",
    "    s=input().split()\n",
    "    sharma=int(s[0])\n",
    "    mother=int(s[1])\n",
    "    if((2*22/7*sharma)<=(100*mother)):\n",
    "        c+=1\n",
    "print(c)\n",
    "    "
   ]
  },
  {
   "cell_type": "code",
   "execution_count": 57,
   "metadata": {},
   "outputs": [
    {
     "ename": "NameError",
     "evalue": "name 'nandini' is not defined",
     "output_type": "error",
     "traceback": [
      "\u001b[1;31m---------------------------------------------------------------------------\u001b[0m",
      "\u001b[1;31mNameError\u001b[0m                                 Traceback (most recent call last)",
      "\u001b[1;32m<ipython-input-57-69504fc97a35>\u001b[0m in \u001b[0;36m<module>\u001b[1;34m\u001b[0m\n\u001b[0;32m      1\u001b[0m \u001b[1;31m# print(\"My name is %s and weight is %d kg!\" % ('Zara', 21))\u001b[0m\u001b[1;33m\u001b[0m\u001b[1;33m\u001b[0m\u001b[1;33m\u001b[0m\u001b[0m\n\u001b[1;32m----> 2\u001b[1;33m \u001b[0mn\u001b[0m\u001b[1;33m=\u001b[0m\u001b[0mnandini\u001b[0m\u001b[1;33m\u001b[0m\u001b[1;33m\u001b[0m\u001b[0m\n\u001b[0m\u001b[0;32m      3\u001b[0m \u001b[0mcapitalize\u001b[0m\u001b[1;33m(\u001b[0m\u001b[0mn\u001b[0m\u001b[1;33m)\u001b[0m\u001b[1;33m\u001b[0m\u001b[1;33m\u001b[0m\u001b[0m\n\u001b[0;32m      4\u001b[0m \u001b[0mprint\u001b[0m\u001b[1;33m(\u001b[0m\u001b[0mn\u001b[0m\u001b[1;33m)\u001b[0m\u001b[1;33m\u001b[0m\u001b[1;33m\u001b[0m\u001b[0m\n",
      "\u001b[1;31mNameError\u001b[0m: name 'nandini' is not defined"
     ]
    }
   ],
   "source": [
    "# print(\"My name is %s and weight is %d kg!\" % ('Zara', 21))\n",
    "n=nandini\n",
    "capitalize(n)\n",
    "print(n)\n"
   ]
  },
  {
   "cell_type": "code",
   "execution_count": null,
   "metadata": {},
   "outputs": [],
   "source": []
  }
 ],
 "metadata": {
  "kernelspec": {
   "display_name": "Python 3",
   "language": "python",
   "name": "python3"
  },
  "language_info": {
   "codemirror_mode": {
    "name": "ipython",
    "version": 3
   },
   "file_extension": ".py",
   "mimetype": "text/x-python",
   "name": "python",
   "nbconvert_exporter": "python",
   "pygments_lexer": "ipython3",
   "version": "3.7.3"
  }
 },
 "nbformat": 4,
 "nbformat_minor": 2
}
