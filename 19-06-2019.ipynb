{
 "cells": [
  {
   "cell_type": "code",
   "execution_count": 6,
   "metadata": {},
   "outputs": [
    {
     "name": "stdout",
     "output_type": "stream",
     "text": [
      "2\n",
      "9 6\n",
      "10\n",
      "1 0\n",
      "1 1\n",
      "0 1\n",
      "1 0\n",
      "0 0\n",
      "0 1\n",
      "0 1\n",
      "1 0\n",
      "1 0\n",
      "0 1\n",
      "75\n",
      "1 9\n",
      "10\n",
      "1 0\n",
      "0 0\n",
      "1 1\n",
      "0 1\n",
      "0 1\n",
      "0 1\n",
      "1 0\n",
      "1 1\n",
      "0 1\n",
      "1 0\n",
      "51\n"
     ]
    }
   ],
   "source": [
    "## COst of Ballons\n",
    "def costofBallons(g,p,gc,pc):\n",
    "    sum=0\n",
    "    if(g==1 and p==1):\n",
    "        sum = gc + pc\n",
    "    elif(g == 1):\n",
    "        sum=sum+gc\n",
    "    elif(p == 1):\n",
    "        sum=sum+pc\n",
    "    else:\n",
    "        sum = sum + 0\n",
    "    return sum\n",
    "    \n",
    "b=int(input()) #2\n",
    "\n",
    "for i in (1,b+1):\n",
    "    prob=input().split()\n",
    "    if i == 1:\n",
    "        gc=int(prob[0])  # 9\n",
    "        pc=int(prob[1]) # 6\n",
    "    else:\n",
    "        gc=int(prob[1])  # 9\n",
    "        pc=int(prob[0])# 1\n",
    "    l=int(input())#10\n",
    "    rs = 0\n",
    "    for j in range(1,l+1):\n",
    "        k=input().split()\n",
    "        g=int(k[0])\n",
    "        p=int(k[1])\n",
    "        rs=rs+costofBallons(g,p,gc,pc)    \n",
    "    print(rs)\n",
    "    \n",
    "    "
   ]
  },
  {
   "cell_type": "code",
   "execution_count": 7,
   "metadata": {},
   "outputs": [
    {
     "name": "stdout",
     "output_type": "stream",
     "text": [
      "1401601499\n",
      "Legal ISBN\n"
     ]
    }
   ],
   "source": [
    "## Book of Potion making\n",
    "def BookofPotion(s):\n",
    "    sum=0\n",
    "    i=1\n",
    "    for a in range(1,11):\n",
    "        sum=sum+(s%10)*i\n",
    "        s = s // 10\n",
    "        i=i+1\n",
    "        \n",
    "    if(sum%11==0):\n",
    "        print(\"Legal ISBN\")\n",
    "    else:\n",
    "        print(\"Illegal ISBN\")\n",
    "    return \n",
    "\n",
    "\n",
    "s=int(input())\n",
    "BookofPotion(s)"
   ]
  },
  {
   "cell_type": "code",
   "execution_count": null,
   "metadata": {},
   "outputs": [
    {
     "name": "stdout",
     "output_type": "stream",
     "text": [
      "4\n",
      "4\n"
     ]
    }
   ],
   "source": [
    "## Life, Universe and everything\n",
    "while 1:\n",
    "    n=int(input())\n",
    "    if n==42:\n",
    "        break\n",
    "    else:\n",
    "        print(n)\n"
   ]
  },
  {
   "cell_type": "code",
   "execution_count": 1,
   "metadata": {},
   "outputs": [
    {
     "name": "stdout",
     "output_type": "stream",
     "text": [
      "3\n",
      "100\n",
      "150\n",
      "YES\n",
      "65\n",
      "NO\n",
      "3485\n",
      "YES\n"
     ]
    }
   ],
   "source": [
    "### Goki and his breakup \n",
    "\n",
    "def Breakup(n):\n",
    "    if(n==l or n>=l):\n",
    "        print(\"YES\")\n",
    "    else:\n",
    "        print(\"NO\")\n",
    "\n",
    "tcs=int(input())\n",
    "l=int(input())\n",
    "for i in range(1,tcs+1):\n",
    "    n=int(input())\n",
    "    Breakup(n)"
   ]
  },
  {
   "cell_type": "code",
   "execution_count": 2,
   "metadata": {},
   "outputs": [
    {
     "name": "stdout",
     "output_type": "stream",
     "text": [
      "2\n",
      "5\n",
      "B\n",
      "3\n",
      "B\n"
     ]
    }
   ],
   "source": [
    "###LIFT QURIES\n",
    "def  lift(N,A,B):\n",
    "    if abs(A-N) == abs(B-N):\n",
    "        print('A')\n",
    "        A=N\n",
    "    else:\n",
    "        print('B')\n",
    "        B=N\n",
    "        \n",
    "        \n",
    "        \n",
    "    \n",
    "\n",
    "T=int(input())\n",
    "A,B=0,7\n",
    "for i in range(1,T+1):\n",
    "    N=int(input())\n",
    "    lift(N,A,B)"
   ]
  },
  {
   "cell_type": "code",
   "execution_count": null,
   "metadata": {},
   "outputs": [],
   "source": []
  }
 ],
 "metadata": {
  "kernelspec": {
   "display_name": "Python 3",
   "language": "python",
   "name": "python3"
  },
  "language_info": {
   "codemirror_mode": {
    "name": "ipython",
    "version": 3
   },
   "file_extension": ".py",
   "mimetype": "text/x-python",
   "name": "python",
   "nbconvert_exporter": "python",
   "pygments_lexer": "ipython3",
   "version": "3.7.3"
  }
 },
 "nbformat": 4,
 "nbformat_minor": 2
}
