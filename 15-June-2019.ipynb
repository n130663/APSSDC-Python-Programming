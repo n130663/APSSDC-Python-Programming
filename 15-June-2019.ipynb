{
 "cells": [
  {
   "cell_type": "code",
   "execution_count": 22,
   "metadata": {},
   "outputs": [
    {
     "name": "stdout",
     "output_type": "stream",
     "text": [
      "1 10 1\n",
      "10\n"
     ]
    }
   ],
   "source": [
    "### Count Divisor\n",
    "\n",
    "def CountDivisor(l,r,k):\n",
    "    c=0\n",
    "    for i in range(l,r+1):\n",
    "        if(i%k==0):\n",
    "            c=c+1\n",
    "    print(c)\n",
    "    return \n",
    "   \n",
    "s = input()\n",
    "s = s.split()\n",
    "l=int(s[0])\n",
    "r=int(s[1])\n",
    "k=int(s[2])\n",
    "   \n",
    "CountDivisor(l,r,k)"
   ]
  },
  {
   "cell_type": "code",
   "execution_count": 70,
   "metadata": {},
   "outputs": [
    {
     "name": "stdout",
     "output_type": "stream",
     "text": [
      "2\n",
      "2\n"
     ]
    }
   ],
   "source": [
    "## Factorial\n",
    "N=int(input())\n",
    "def fact(N):\n",
    "    f=1\n",
    "   \n",
    "    for i in range(1,N+1):\n",
    "        f=f*i\n",
    "    print(f)\n",
    "    return\n",
    "fact(N)"
   ]
  },
  {
   "cell_type": "code",
   "execution_count": 69,
   "metadata": {},
   "outputs": [
    {
     "name": "stdout",
     "output_type": "stream",
     "text": [
      "aba\n",
      "YES\n"
     ]
    }
   ],
   "source": [
    "## Palindrom\n",
    "\n",
    "def String(s):\n",
    "    if(s==s[::-1]):\n",
    "        print('YES')\n",
    "    else:\n",
    "        print('NO')\n",
    "        \n",
    "    return \n",
    "s=input()\n",
    "String(s)"
   ]
  },
  {
   "cell_type": "code",
   "execution_count": 68,
   "metadata": {},
   "outputs": [
    {
     "name": "stdout",
     "output_type": "stream",
     "text": [
      "9\n",
      "2 3 5 7 "
     ]
    }
   ],
   "source": [
    "N = int(input())\n",
    "def prime(N):\n",
    "    c=0\n",
    "    for i in range(1,N+1):\n",
    "        if(N%i==0):\n",
    "            c=c+1\n",
    "    if(c==2):\n",
    "        return True\n",
    "    else:\n",
    "         return False\n",
    "    return \n",
    "def primeRange(N):\n",
    "    for i in range(1,N+1):\n",
    "        if(prime(i)):\n",
    "            print(i,end=\" \")\n",
    "    return \n",
    "primeRange(N)"
   ]
  },
  {
   "cell_type": "code",
   "execution_count": 16,
   "metadata": {},
   "outputs": [
    {
     "name": "stdout",
     "output_type": "stream",
     "text": [
      "ldkfsE\n",
      "LDKFSe"
     ]
    }
   ],
   "source": [
    "### Toggle String\n",
    "\n",
    "def a(n):\n",
    "    for i in n:\n",
    "        if i==i.upper():\n",
    "            a=i.lower()\n",
    "        elif i==i.lower():\n",
    "            a=i.upper()\n",
    "        print(a,end=\"\")\n",
    "n=input()\n",
    "a(n)\n",
    "\n",
    "\n",
    "\n"
   ]
  },
  {
   "cell_type": "code",
   "execution_count": 24,
   "metadata": {},
   "outputs": [
    {
     "name": "stdout",
     "output_type": "stream",
     "text": [
      "9\n",
      "2 3 5 7 "
     ]
    }
   ],
   "source": [
    "## Prime Number\n",
    "\n",
    "N = int(input())\n",
    "def prime(N):\n",
    "    c=0\n",
    "    for i in range(1,N+1):\n",
    "        if(N%i==0):\n",
    "            c=c+1\n",
    "    if(c==2):\n",
    "        return True\n",
    "    else:\n",
    "         return False\n",
    "    return \n",
    "def primeRange(N):\n",
    "    for i in range(1,N+1):\n",
    "        if(prime(i)):\n",
    "            print(i,end=\" \")\n",
    "    return \n",
    "primeRange(N)"
   ]
  },
  {
   "cell_type": "code",
   "execution_count": 65,
   "metadata": {},
   "outputs": [
    {
     "name": "stdout",
     "output_type": "stream",
     "text": [
      "aba\n",
      "4\n"
     ]
    }
   ],
   "source": [
    "## Char SUm\n",
    "\n",
    "a=0;\n",
    "s=input()\n",
    "for ele in s:\n",
    "    a=a+(ord(ele)-96);\n",
    "print(a)"
   ]
  },
  {
   "cell_type": "code",
   "execution_count": 2,
   "metadata": {},
   "outputs": [
    {
     "name": "stdout",
     "output_type": "stream",
     "text": [
      "3\n",
      "sumit mitsu\n",
      "YES\n",
      "ambuj jumba\n",
      "YES\n",
      "abhi hibb\n",
      "NO\n"
     ]
    }
   ],
   "source": [
    "### Two Strings\n",
    "\n",
    "T=int(input())\n",
    "def twostrings(s,t):\n",
    "    \n",
    "    f=1\n",
    "    if len(s)!=len(t):\n",
    "        return 'NO'\n",
    "    else:\n",
    "        for i in range(len(s)):\n",
    "            if s.count(s[i])!=t.count(s[i]):\n",
    "                return 'NO'\n",
    "    if f== 1:\n",
    "        return 'YES'\n",
    "for i in range(T):\n",
    "   \n",
    "    st=input().split()\n",
    "    s=st[0]\n",
    "    t=st[1]\n",
    "    print(twostrings(s,t))"
   ]
  },
  {
   "cell_type": "markdown",
   "metadata": {},
   "source": [
    "# Duration\n",
    "def duration(sh,sm,eh,em):\n",
    "    startinghour=sh*60+sm\n",
    "    endinghour=eh*60+em\n",
    "    tot=endinghour-startinghour\n",
    "    workhours=tot//60\n",
    "    workmints=tot%60\n",
    "    print(workhours, end=\" \")\n",
    "    print(workmints, end=\"\\n\")\n",
    "    return\n",
    "    \n",
    "n=int(input())\n",
    "for i in range(1, n+1):\n",
    "    st=input().split()\n",
    "    sh=int(st[0])\n",
    "    sm=int(st[1])\n",
    "    eh=int(st[2])\n",
    "    em=int(st[3])\n",
    "    \n",
    "    duration(sh,sm,eh,em)"
   ]
  },
  {
   "cell_type": "code",
   "execution_count": null,
   "metadata": {},
   "outputs": [],
   "source": []
  },
  {
   "cell_type": "code",
   "execution_count": null,
   "metadata": {},
   "outputs": [],
   "source": []
  }
 ],
 "metadata": {
  "kernelspec": {
   "display_name": "Python 3",
   "language": "python",
   "name": "python3"
  }
 },
 "nbformat": 4,
 "nbformat_minor": 2
}
