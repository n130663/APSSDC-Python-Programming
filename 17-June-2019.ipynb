{
 "cells": [
  {
   "cell_type": "code",
   "execution_count": 10,
   "metadata": {},
   "outputs": [
    {
     "name": "stdout",
     "output_type": "stream",
     "text": [
      "dsfhth1346\n",
      "4\n",
      "6\n"
     ]
    }
   ],
   "source": [
    "### Number of digits and number of characters count program\n",
    "\n",
    "def CountOfDigits(s):\n",
    "    charcount=0\n",
    "    digitcount=0\n",
    "    simblecount=0\n",
    "    for i in s:\n",
    "        if((i>='a' and i<='z') or(i>='A') and (i<='Z')):\n",
    "            charcount=charcount+1\n",
    "        elif(i>='0' and i<='9'):\n",
    "            digitcount = digitcount+1\n",
    "    print(digitcount)\n",
    "    print(charcount)\n",
    "    \n",
    "s=input()\n",
    "CountOfDigits(s)\n",
    "\n"
   ]
  },
  {
   "cell_type": "code",
   "execution_count": 13,
   "metadata": {},
   "outputs": [
    {
     "name": "stdout",
     "output_type": "stream",
     "text": [
      "2\n",
      "5\n",
      "3\n",
      "4\n",
      "3\n"
     ]
    }
   ],
   "source": [
    "### Largest remainder in a given number program\n",
    "\n",
    "def highrem(n):\n",
    "    rem1=0\n",
    "    for i in range(1,n):\n",
    "        rem=n%i\n",
    "        if rem > rem1:\n",
    "            rem1=rem\n",
    "            j=i\n",
    "    return j\n",
    "\n",
    "\n",
    "t=int(input())\n",
    "for i in range(t):\n",
    "    n=int(input())\n",
    "    print(highrem(n))\n",
    "    \n",
    "\n",
    "    \n",
    "        \n",
    "    "
   ]
  },
  {
   "cell_type": "code",
   "execution_count": 64,
   "metadata": {},
   "outputs": [
    {
     "name": "stdout",
     "output_type": "stream",
     "text": [
      "2 3 5 7 "
     ]
    }
   ],
   "source": [
    "# n=int(input())\n",
    "def isPrime(n):\n",
    "    count=0\n",
    "    for i in range(1,n+1):\n",
    "        if(n%i==0):\n",
    "            count+=1\n",
    "    if(count==2):\n",
    "        print(n,end=\" \")\n",
    "#     else:\n",
    "#         print(False)\n",
    "    return \n",
    "\n",
    "\n",
    "def Series(start,end):\n",
    "    sum=0\n",
    "    for n in range(start,end+1):\n",
    "        if(isPrime(n)):\n",
    "            print(isPrime(n))\n",
    "    return \n",
    "Series(1,10)\n",
    "\n",
    "    \n",
    "     \n",
    "            "
   ]
  },
  {
   "cell_type": "code",
   "execution_count": null,
   "metadata": {},
   "outputs": [],
   "source": []
  },
  {
   "cell_type": "code",
   "execution_count": null,
   "metadata": {},
   "outputs": [],
   "source": []
  }
 ],
 "metadata": {
  "kernelspec": {
   "display_name": "Python 3",
   "language": "python",
   "name": "python3"
  },
  "language_info": {
   "codemirror_mode": {
    "name": "ipython",
    "version": 3
   },
   "file_extension": ".py",
   "mimetype": "text/x-python",
   "name": "python",
   "nbconvert_exporter": "python",
   "pygments_lexer": "ipython3",
   "version": "3.7.3"
  }
 },
 "nbformat": 4,
 "nbformat_minor": 2
}
