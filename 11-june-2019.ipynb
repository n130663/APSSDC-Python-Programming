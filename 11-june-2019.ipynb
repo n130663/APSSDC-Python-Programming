{
 "cells": [
  {
   "cell_type": "markdown",
   "metadata": {},
   "source": [
    "## 1.Markdown  Basics  <br>\n",
    "\n",
    "* **Bold** <br>\n",
    "* *Itallic* <br>\n",
    "* ***IB*** <br>\n",
    "* Normal Text\n",
    "\n",
    "\n",
    "## 2.Unordered Lists\n",
    "\n",
    "    * Sublist 1\n",
    "    * Sublist 2\n",
    "    \n",
    "    \n",
    "## 3.Ordered Lists\n",
    "  \n",
    ">1. Ordered list element 1\n",
    ">2. Ordered list element 2\n",
    "\n",
    "- [] Option 1\n",
    "- [] Option 2\n",
    "- [] Option 3\n",
    "\n",
    "\n",
    "## 4.Add Image through the link\n",
    "\n",
    "[Jupyter Logo](JupyterLogo.png)\n",
    "\n",
    "\n",
    "## 5.Display image\n",
    "\n",
    "![Jupyter Logo](JupyterLogo.png)\n",
    "\n",
    "<img src=\"jupyterLogo.png\" style=float:left>\n",
    "\n"
   ]
  },
  {
   "cell_type": "markdown",
   "metadata": {},
   "source": [
    "## Adding links \n",
    "\n",
    "I get 10 times more traffic from [Google] [1] than from\n",
    "[Yahoo] [2] or [MSN] [3].\n",
    "\n",
    "  [1]: http://google.com/        \"Google\"\n",
    "  [2]: http://search.yahoo.com/  \"Yahoo Search\"\n",
    "  [3]: http://search.msn.com/    \"MSN Search\"\n",
    "\n",
    "`printf(\"Hello madam\")`\n",
    "\n",
    "<http://google.com>\n",
    "\n",
    "<markdown@example.com>\n"
   ]
  },
  {
   "cell_type": "markdown",
   "metadata": {},
   "source": [
    "## Python Basic\n",
    "### Python Version 3.7"
   ]
  },
  {
   "cell_type": "code",
   "execution_count": null,
   "metadata": {},
   "outputs": [],
   "source": [
    "### Python comments\n",
    "\n",
    "print(\"Good Afternnoon  !\",end=\"||\") # Basic Output\n",
    "print(\"Hello Python\")\n",
    "\n"
   ]
  },
  {
   "cell_type": "markdown",
   "metadata": {},
   "source": [
    "## Assignment"
   ]
  },
  {
   "cell_type": "code",
   "execution_count": null,
   "metadata": {},
   "outputs": [],
   "source": [
    "a1=123456  #single variable assignment\n",
    "\n",
    "a2 = a3 = a4 = a1 #Multi Variable assingnment of the same value\n",
    "\n",
    "a,b,c=123,234,345 #Multi Variable assignment with different values\n",
    "\n",
    "print(a,b,c)\n"
   ]
  },
  {
   "cell_type": "markdown",
   "metadata": {},
   "source": [
    "## Data Types\n",
    " - int\n",
    " - float\n",
    " - string\n",
    " "
   ]
  },
  {
   "cell_type": "code",
   "execution_count": 3,
   "metadata": {},
   "outputs": [
    {
     "ename": "SyntaxError",
     "evalue": "unexpected EOF while parsing (<ipython-input-3-9e662b37eee7>, line 13)",
     "output_type": "error",
     "traceback": [
      "\u001b[1;36m  File \u001b[1;32m\"<ipython-input-3-9e662b37eee7>\"\u001b[1;36m, line \u001b[1;32m13\u001b[0m\n\u001b[1;33m    float(str(int(f1))\u001b[0m\n\u001b[1;37m                      ^\u001b[0m\n\u001b[1;31mSyntaxError\u001b[0m\u001b[1;31m:\u001b[0m unexpected EOF while parsing\n"
     ]
    }
   ],
   "source": [
    "a1 = 7\n",
    "type(a1)\n",
    "\n",
    "type(a)\n",
    "s1 = \"Python\"\n",
    "type(s1)\n",
    "\n",
    "f1 = 12.234\n",
    "type(f1)\n",
    "\n",
    "int(f1)\n",
    "str(int(f1))\n",
    "float(str(int(f1))\n"
   ]
  },
  {
   "cell_type": "markdown",
   "metadata": {},
   "source": [
    "## Arthmetic Operators\n",
    "- +\n",
    "- -\n",
    "- *\n",
    "- %\n",
    "- **\n",
    "- /\n",
    "\n"
   ]
  },
  {
   "cell_type": "code",
   "execution_count": null,
   "metadata": {},
   "outputs": [],
   "source": [
    "a // 123\n",
    "b ** 12\n",
    "a3 = a2 ** 1234\n",
    "\n",
    "\n",
    "type(a3)\n",
    "len(str(a3))\n",
    "\n",
    "atoms = 10 ** 82\n",
    "len(str(atoms))\n",
    "type(str(atoms))\n",
    "\n",
    "122321**9\n",
    "\n"
   ]
  },
  {
   "cell_type": "markdown",
   "metadata": {},
   "source": [
    "## Conditionals"
   ]
  },
  {
   "cell_type": "code",
   "execution_count": null,
   "metadata": {
    "scrolled": true
   },
   "outputs": [],
   "source": [
    "if atoms < 10 ** 96:\n",
    "    print(\"TRUE\")\n",
    "else:\n",
    "    print(\"FALSE\")"
   ]
  },
  {
   "cell_type": "code",
   "execution_count": null,
   "metadata": {},
   "outputs": [],
   "source": [
    "# Chech if a number is Even\n",
    "\n",
    "n=12345\n",
    "if n%2==0:\n",
    "    print(\"Even\")\n",
    "else:\n",
    "    print(\"Odd\")\n",
    "    "
   ]
  },
  {
   "cell_type": "code",
   "execution_count": 10,
   "metadata": {},
   "outputs": [
    {
     "name": "stdout",
     "output_type": "stream",
     "text": [
      "Enter the first number12\n",
      "Enter second number13\n",
      "Enter third number14\n",
      "14 is the greatest\n"
     ]
    }
   ],
   "source": [
    "### Find the greatest of Three numbers\n",
    "\n",
    "n1 = int(input(\"Enter the first number\"))\n",
    "n2 = int(input(\"Enter second number\"))\n",
    "n3 = int(input(\"Enter third number\"))\n",
    "\n",
    "if n1>n2 and n1>n3:\n",
    "    print(n1, \"is the greatest\")\n",
    "elif n2>n3 :\n",
    "    print(n2, \"is the greatest\")\n",
    "else:\n",
    "    print(n3, \"is the greatest\")\n"
   ]
  },
  {
   "cell_type": "code",
   "execution_count": 27,
   "metadata": {},
   "outputs": [
    {
     "name": "stdout",
     "output_type": "stream",
     "text": [
      "Enter Year1996\n",
      "Leap\n"
     ]
    }
   ],
   "source": [
    "### Leap year Program\n",
    "\n",
    "n1 = int(input(\"Enter Year\"))\n",
    "if n1%400==0 or (n1%100!=0 and n1%4==0):\n",
    "    print(\"Leap\")\n",
    "else:\n",
    "    print(\"Not Leap\")"
   ]
  },
  {
   "cell_type": "code",
   "execution_count": 1,
   "metadata": {},
   "outputs": [
    {
     "name": "stdout",
     "output_type": "stream",
     "text": [
      "Enter a number:10\n",
      "Enter start range:8\n",
      "Enter end range:20\n",
      "Existed\n"
     ]
    }
   ],
   "source": [
    "#### Check if a number exists in a given range\n",
    "\n",
    "a = int(input(\"Enter a number:\"))\n",
    "i = int(input(\"Enter start range:\"))\n",
    "j = int(input(\"Enter end range:\"))\n",
    "if a > i and a < j:\n",
    "        print(\"Existed\")\n",
    "else:\n",
    "    print(\"Not existed\")\n"
   ]
  },
  {
   "cell_type": "code",
   "execution_count": 13,
   "metadata": {},
   "outputs": [
    {
     "name": "stdout",
     "output_type": "stream",
     "text": [
      "Enter number12356\n",
      "count 5\n"
     ]
    }
   ],
   "source": [
    "# Calculate the number of digits in a number\n",
    "\n",
    "n = int(input(\"Enter number\"))\n",
    "count =0\n",
    "while n!=0:\n",
    "    n = n//10\n",
    "    count=count+1\n",
    "print(\"count\",count)\n"
   ]
  },
  {
   "cell_type": "code",
   "execution_count": 3,
   "metadata": {},
   "outputs": [
    {
     "name": "stdout",
     "output_type": "stream",
     "text": [
      "enter number1000\n",
      "Yes\n"
     ]
    }
   ],
   "source": [
    "## Check if a number is a multiple of 10\n",
    "\n",
    "n = int(input(\"enter number\"))\n",
    "if (n%10==0):\n",
    "    print(\"Yes\")\n",
    "else:\n",
    "    print(\"No\")\n",
    "\n"
   ]
  },
  {
   "cell_type": "code",
   "execution_count": 8,
   "metadata": {},
   "outputs": [
    {
     "name": "stdout",
     "output_type": "stream",
     "text": [
      "Enter number:4000\n",
      "Yes\n"
     ]
    }
   ],
   "source": [
    "## CHeck if a number is a factor of 1000\n",
    "\n",
    "a = int(input(\"Enter number:\"))\n",
    "if (a%1000==0):\n",
    "    print(\"Yes\")\n",
    "else:\n",
    "    print(\"No\")"
   ]
  },
  {
   "cell_type": "code",
   "execution_count": 10,
   "metadata": {},
   "outputs": [
    {
     "name": "stdout",
     "output_type": "stream",
     "text": [
      "12345 is not equal to nandu\n"
     ]
    }
   ],
   "source": [
    "## Check if given string is equal to a number\n",
    "\n",
    "s1 = \"nandu\"\n",
    "a = 12345\n",
    "if str(a)==s1:\n",
    "    print(a, \"is equal to\",s1)\n",
    "else:\n",
    "    print(a, \"is not equal to\",s1)"
   ]
  },
  {
   "cell_type": "code",
   "execution_count": 11,
   "metadata": {},
   "outputs": [
    {
     "data": {
      "text/plain": [
       "11.090536506409418"
      ]
     },
     "execution_count": 11,
     "metadata": {},
     "output_type": "execute_result"
    }
   ],
   "source": [
    "# Caluculate the Square root of a number without functions\n",
    "\n",
    "n1 = 123\n",
    "n1 ** 0.5\n"
   ]
  },
  {
   "cell_type": "code",
   "execution_count": 12,
   "metadata": {},
   "outputs": [
    {
     "name": "stdout",
     "output_type": "stream",
     "text": [
      "31536000000000000\n"
     ]
    }
   ],
   "source": [
    "## Caluculate the number of nano seconds \n",
    "\n",
    "year = 2019\n",
    "if (year%400==0 or (year%100!=0 and year%4==0)):\n",
    "    print(366*24*60*60(10**9))\n",
    "else:\n",
    "    print(365*24*60*60*(10**9))\n",
    "    "
   ]
  },
  {
   "cell_type": "code",
   "execution_count": 22,
   "metadata": {},
   "outputs": [
    {
     "ename": "SyntaxError",
     "evalue": "invalid syntax (<ipython-input-22-c3d8ffaf046c>, line 6)",
     "output_type": "error",
     "traceback": [
      "\u001b[1;36m  File \u001b[1;32m\"<ipython-input-22-c3d8ffaf046c>\"\u001b[1;36m, line \u001b[1;32m6\u001b[0m\n\u001b[1;33m    for i in range(>=n)\u001b[0m\n\u001b[1;37m                    ^\u001b[0m\n\u001b[1;31mSyntaxError\u001b[0m\u001b[1;31m:\u001b[0m invalid syntax\n"
     ]
    }
   ],
   "source": [
    "## Prime number\n",
    " \n",
    "n=int(input(\"enter number\"))\n",
    "count=0\n",
    "i=1\n",
    "for i in range(>n)\n",
    "    n%i==0\n",
    "    count=count+1\n",
    "    i+=1\n",
    "if(count==2):\n",
    "    print(\"P\")\n",
    "else:\n",
    "    print(\"NP\")\n",
    "    \n",
    "    \n",
    "    \n",
    "    "
   ]
  },
  {
   "cell_type": "code",
   "execution_count": null,
   "metadata": {},
   "outputs": [],
   "source": []
  }
 ],
 "metadata": {
  "kernelspec": {
   "display_name": "Python 3",
   "language": "python",
   "name": "python3"
  },
  "language_info": {
   "codemirror_mode": {
    "name": "ipython",
    "version": 3
   },
   "file_extension": ".py",
   "mimetype": "text/x-python",
   "name": "python",
   "nbconvert_exporter": "python",
   "pygments_lexer": "ipython3",
   "version": "3.7.3"
  }
 },
 "nbformat": 4,
 "nbformat_minor": 2
}
