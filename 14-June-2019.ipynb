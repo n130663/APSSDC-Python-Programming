{
 "cells": [
  {
   "cell_type": "markdown",
   "metadata": {},
   "source": [
    "### Problem Solving and Programming in Pyhton\n",
    "\n",
    "\n",
    "#### Date-14 June 2019\n",
    "\n",
    "#### Day Objectives\n",
    "- Python Data Structures\n",
    "   - Lists\n",
    "   - Tuples\n",
    "   - Dictionaries\n",
    "- Basic Problem set on Data Structures\n",
    "- Advances Problem set\n",
    "- Packages and Modules in Python"
   ]
  },
  {
   "cell_type": "markdown",
   "metadata": {},
   "source": []
  },
  {
   "cell_type": "markdown",
   "metadata": {},
   "source": [
    "### Python DataStructures\n",
    "\n",
    "#### Lists"
   ]
  },
  {
   "cell_type": "code",
   "execution_count": 26,
   "metadata": {},
   "outputs": [
    {
     "data": {
      "text/plain": [
       "[453]"
      ]
     },
     "execution_count": 26,
     "metadata": {},
     "output_type": "execute_result"
    }
   ],
   "source": [
    "li = [123, 453, 345]\n",
    "\n",
    "li        ## Access the entire list\n",
    "\n",
    "li[1]     ## Access the second element with a index in a list\n",
    "\n",
    "li[1:]    ## Acess all the elements from second elements to last element\n",
    "\n",
    "li[::-1]  ## Revers of list\n",
    "\n",
    "li = li[::-1]\n",
    "li\n",
    "\n",
    "li = li[::-1]\n",
    "li\n",
    "\n",
    "li [::2]   ### Accessing even index elements\n",
    "\n",
    "li[1::2]   ### Aceessing odd index elements\n",
    "\n"
   ]
  },
  {
   "cell_type": "markdown",
   "metadata": {},
   "source": [
    "#### Adding and Removing Data(Data Manupulation)"
   ]
  },
  {
   "cell_type": "code",
   "execution_count": 2,
   "metadata": {},
   "outputs": [
    {
     "data": {
      "text/plain": [
       "490"
      ]
     },
     "execution_count": 2,
     "metadata": {},
     "output_type": "execute_result"
    }
   ],
   "source": [
    "#### Lists can be accessed,manupulated in two different ways\n",
    "    # Direct Referencing   ---[index]\n",
    "    # Indirect Referencing ---through function \n",
    "    \n",
    "    \n",
    "li = [123, 563, 684]  \n",
    "li.append(345)  ## Adding an element to end of the list\n",
    "li\n",
    "\n",
    "li.insert(1, 234) ## Adding an element at a particular postion in a list\n",
    "li\n",
    "\n",
    "li.sort()  ## Sort elements in ascending order in a list\n",
    "li\n",
    "\n",
    "li.pop()   ## Remove the last element in list\n",
    "li\n",
    "\n",
    "li.pop(1)  ## Remove an element at a particular index\n",
    "li\n",
    "\n",
    "li2 = [245, 786, 484]\n",
    "\n",
    "li.extend(li2)  ## Merge list 2 into list 1\n",
    "li\n",
    "\n",
    "sum(li)     ### Sum of all elements in a list\n",
    "\n",
    "max(li)     ### Biggest number in a list\n",
    "\n",
    "min(li)     ### Small number ina list\n",
    "\n",
    "len(li)     ### Length of a lsit\n",
    "\n",
    " ### Average of list elements\n",
    "sum(li)//len(li)\n",
    "\n",
    "## Average of all alternate elements\n",
    "li[::2]\n",
    "sum(li[::2])//len(li[::2])\n",
    "\n",
    "\n",
    "\n",
    "\n",
    "\n",
    "\n",
    "\n",
    "\n"
   ]
  },
  {
   "cell_type": "code",
   "execution_count": 107,
   "metadata": {},
   "outputs": [
    {
     "data": {
      "text/plain": [
       "4"
      ]
     },
     "execution_count": 107,
     "metadata": {},
     "output_type": "execute_result"
    }
   ],
   "source": [
    "## Function to identify the second largest element in a list\n",
    "\n",
    "# list1 = [10, 20, 4, 45, 99] \n",
    "  \n",
    "# max=max(list1[0],list1[1]) \n",
    "# secondmax=min(list1[0],list1[1]) \n",
    "  \n",
    "# for i in range(2,len(list1)): \n",
    "#     if list1[i]>max: \n",
    "#         secondmax=max\n",
    "#         max=list1[i] \n",
    "#     else: \n",
    "#         if list1[i]>secondmax: \n",
    "#             secondmax=list1[i] \n",
    "  \n",
    "# print(\"Second highest number is : \",str(secondmax)) \n",
    "\n",
    "## Function to identify the second largest element in a list\n",
    "        ## Sort the data and select the second last element\n",
    "        ## Sort the data in reverse order, and select the second \n",
    "        ## Remove the max element and then get the max of the new list\n",
    "        \n",
    "li = [10, 20, 4, 45, 99] \n",
    "def secondLargest(li):\n",
    "    li.sort()\n",
    "    return li[-2]\n",
    "\n",
    "secondLargest(li)\n",
    "    \n",
    "\n",
    "\n",
    "## Function that returns the nth largest\n",
    "\n",
    "def genericLargest(li,n):\n",
    "    li.sort()\n",
    "    return li[-n]\n",
    "secondLargest(li)\n",
    "genericLargest(li, 5)\n",
    "\n",
    "\n",
    "    \n",
    "    "
   ]
  },
  {
   "cell_type": "code",
   "execution_count": 130,
   "metadata": {},
   "outputs": [
    {
     "data": {
      "text/plain": [
       "4"
      ]
     },
     "execution_count": 130,
     "metadata": {},
     "output_type": "execute_result"
    }
   ],
   "source": [
    "## Function to search for data in a list\n",
    "## Search for the key in the list and return the index values or -1\n",
    "\n",
    "\n",
    "# a=int(input(\"enter element\"))\n",
    "# def linearSearch(li,a):\n",
    "#     if a in li:\n",
    "#         return li.index(a)\n",
    "#     else:\n",
    "#         return -1\n",
    "# linearSearch(li,a) \n",
    "\n",
    "# def linearSerch(li,key):\n",
    "#     for index in range(0, len(li)):\n",
    "#         if li[index] == key:\n",
    "#             return index\n",
    "            \n",
    "#     return -1\n",
    "# linearSerch(li,45)\n",
    "\n",
    "def linearSearch2(li, key):\n",
    "    for element in li:\n",
    "        if element == key:\n",
    "            return li.index(element)\n",
    "    return -1\n",
    "\n",
    "def linearSearch3(li, key):\n",
    "    if key in li:\n",
    "        return li.index(key)\n",
    "    return -1\n",
    "\n",
    "linearSearch2(li,99)\n",
    "\n",
    "\n",
    "            \n"
   ]
  },
  {
   "cell_type": "code",
   "execution_count": 140,
   "metadata": {},
   "outputs": [
    {
     "data": {
      "text/plain": [
       "2"
      ]
     },
     "execution_count": 140,
     "metadata": {},
     "output_type": "execute_result"
    }
   ],
   "source": [
    "### Function to count the occurances of a character in a string\n",
    "## \"Python Programming\", m-->2\n",
    "\n",
    "def countOccurances(s, c):\n",
    "    count = 0\n",
    "    for ch in s:\n",
    "        if ch == c:\n",
    "            count = count+1\n",
    "    return count\n",
    "\n",
    "def countCharOccurances2(s,c):\n",
    "    return s.count(c)\n",
    "\n",
    "countCharOccurances2(\"Python Programming\",'P')\n",
    "\n",
    "    "
   ]
  },
  {
   "cell_type": "code",
   "execution_count": 147,
   "metadata": {},
   "outputs": [
    {
     "data": {
      "text/plain": [
       "2"
      ]
     },
     "execution_count": 147,
     "metadata": {},
     "output_type": "execute_result"
    }
   ],
   "source": [
    "## Function to find the number of occurances of a substring \n",
    "## \"abcabcddcba\", \"ab\"-> 2\n",
    "\n",
    "def substring(s, c):\n",
    "    count = 0\n",
    "    for ch in s:\n",
    "        if ch == c:\n",
    "            count = count+1\n",
    "    return count\n",
    "\n",
    "def substring2(s,c):\n",
    "    return s.count(c)\n",
    "substring2(\"abcabcddcba\",'ab')"
   ]
  },
  {
   "cell_type": "code",
   "execution_count": 5,
   "metadata": {},
   "outputs": [],
   "source": [
    "s = \"1 2 3 4 5 6\"\n",
    "li = s.split()\n",
    "numberlist = []\n",
    "for i in li:\n",
    "    numberlist.append(int(i))\n",
    "\n"
   ]
  },
  {
   "cell_type": "code",
   "execution_count": null,
   "metadata": {},
   "outputs": [],
   "source": []
  }
 ],
 "metadata": {
  "kernelspec": {
   "display_name": "Python 3",
   "language": "python",
   "name": "python3"
  },
  "language_info": {
   "codemirror_mode": {
    "name": "ipython",
    "version": 3
   },
   "file_extension": ".py",
   "mimetype": "text/x-python",
   "name": "python",
   "nbconvert_exporter": "python",
   "pygments_lexer": "ipython3",
   "version": "3.7.3"
  }
 },
 "nbformat": 4,
 "nbformat_minor": 2
}
