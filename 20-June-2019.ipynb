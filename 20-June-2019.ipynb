{
 "cells": [
  {
   "cell_type": "markdown",
   "metadata": {},
   "source": [
    "### 20-June-2019\n",
    "### Day Objectives\n",
    "- Regular Expressions\n",
    "    - Constructive Regular Expressions for various use cases\n",
    "    - Regular Expressions Module and related in Python\n",
    "    - Improving the contacts application with name and phone number validation using regular expressions\n",
    "- File Handling\n",
    "    - Text Files\n",
    "    - Upgrading the Contacts Application to store contact information in a text file"
   ]
  },
  {
   "cell_type": "code",
   "execution_count": null,
   "metadata": {},
   "outputs": [],
   "source": []
  },
  {
   "cell_type": "markdown",
   "metadata": {},
   "source": [
    "#### Regular Expressions\n",
    "\n",
    "- Pattern Matching\n",
    "- Symbolic Notation of a pattern\n",
    "    - Pattern : Format which repeats\n",
    "    - Pattern(RE) : The set of all values which match that pattern\n",
    "- [0-9] -> Any digit\n",
    "\n",
    "- [a-z] -> Any lower case alphabet\n",
    "\n",
    "- [8642] -> All single digit multiples of 2\n",
    "\n",
    "- [2486] - > Order may be in any form\n",
    "\n",
    "- ^[0-9]{1}$ -> Only single digit numbers\n",
    "\n",
    "- ^[0-9]{2}$ -> Only 2 digit numbers\n",
    "\n",
    "- ^[a-z]{2}$ -> Only 2 alphabets\n",
    "\n",
    "- ^[1-9][0-9]*[05]$ ----> All Multiples of 5\n",
    "\n",
    "        -  Using the or ^[1-9][0-9]*[05]$|^([5])$\n",
    "        \n",
    "- ^[0-9]{10}$ -----> All 10 digit numbers\n",
    "\n",
    "- [w][o][r][d] or (word)  -> Searching for a 'word'\n",
    "\n",
    "- ^[6-9]{1}[0-9]{9}$ ------> Valid phone number in India\n",
    "\n",
    "     -  ^[6-9][0-9]{9}$|^[0][6-9][0-9]{9}|^[+][9][1][6-9][0-9]{9}$\n",
    "\n",
    "\n",
    "-^[0-9a-z][0-9a-z_.]{4,13}[0-9a-z][@][a-z0-9]{3,18}[.][a-z]{2,4} -> Email Validation(username@domain.extension)\n",
    "\n",
    "        - username\n",
    "            - Length of username: [6,15]\n",
    "            - No special characters other than _ . \n",
    "            - Should not begin with _ .\n",
    "            - Character Set : all digits and alphabet\n",
    "        - domain\n",
    "            - Length of domain: [3, 18]\n",
    "            - No special characters\n",
    "            - Character Set : all digits and alphabet\n",
    "        - extension\n",
    "            - Length of extension : [2, 4]\n",
    "            - No special characters\n",
    "            - Character Set : alphabet \n",
    "            \n",
    "            \n",
    "        \n"
   ]
  },
  {
   "cell_type": "markdown",
   "metadata": {},
   "source": [
    "### Email Extension\n",
    "\n",
    "\n",
    "- ^[0-9a-z][0-9a-z_.]{4,13}[@][0-9a-z]{3,18}[.][a-z]{2,4}|[.][a-z]{2,4}$\n",
    "\n",
    "- ^[a]...[z]$   -----> Any string of length 5 that starts with 'a' and ends with 'z' \n",
    "\n",
    "   - ^[a].*[z]$ -----> Any string of length of any that starts with 'a' and ends with 'z'\n",
    "\n"
   ]
  },
  {
   "cell_type": "code",
   "execution_count": 22,
   "metadata": {},
   "outputs": [
    {
     "name": "stdout",
     "output_type": "stream",
     "text": [
      "4\n",
      "*   *\n",
      "*   *\n",
      "*****\n",
      "*   *\n",
      "*   *\n",
      "*****\n",
      "*   *\n",
      "*   *\n",
      "*****\n",
      "*   *\n",
      "*   *\n",
      "*****\n",
      "*   *\n",
      "*   *\n"
     ]
    }
   ],
   "source": [
    "### Ladderd Program\n",
    "\n",
    "n=int(input())\n",
    "for i in range(1,n+1):\n",
    "    for j in range(1,n-1):\n",
    "        print('*   *')\n",
    "    print(\"*****\")\n",
    "for j in range(1,n-1):\n",
    "        print('*   *')\n",
    "    \n",
    "\n"
   ]
  },
  {
   "cell_type": "markdown",
   "metadata": {},
   "source": [
    "## Validation of Phone number\n"
   ]
  },
  {
   "cell_type": "code",
   "execution_count": 26,
   "metadata": {},
   "outputs": [
    {
     "name": "stdout",
     "output_type": "stream",
     "text": [
      "0987654\n"
     ]
    },
    {
     "data": {
      "text/plain": [
       "False"
      ]
     },
     "execution_count": 26,
     "metadata": {},
     "output_type": "execute_result"
    }
   ],
   "source": [
    "## Function to validate a phone number\n",
    "\n",
    "import re\n",
    "def phoneNumberValidator(number):\n",
    "    pattern = '^[6-9][0-9]{9}|$^[0][6-9][0-9]{9}|^[+][9][1][0-6][0-9]$'\n",
    "    if re.match(pattern, str(number)):\n",
    "        return True\n",
    "    return False\n",
    "n=input()\n",
    "phoneNumberValidator(n)"
   ]
  },
  {
   "cell_type": "code",
   "execution_count": 4,
   "metadata": {},
   "outputs": [
    {
     "name": "stdout",
     "output_type": "stream",
     "text": [
      "nandu1234@gmail.com\n"
     ]
    },
    {
     "data": {
      "text/plain": [
       "True"
      ]
     },
     "execution_count": 4,
     "metadata": {},
     "output_type": "execute_result"
    }
   ],
   "source": [
    "def emailValidator(email):\n",
    "    pattern='^[0-9a-z][0-9a-z_.]{4,13}[@][0-9a-z]{3,18}[.][a-z]{2,4}|[.][a-z]{2,4}$'\n",
    "    if re.match(pattern,email):\n",
    "        return True\n",
    "    else:\n",
    "        return False\n",
    "email=input()\n",
    "emailValidator(\"nandu1234@gmail.com\")"
   ]
  },
  {
   "cell_type": "code",
   "execution_count": 6,
   "metadata": {},
   "outputs": [
    {
     "name": "stdout",
     "output_type": "stream",
     "text": [
      "friends\n",
      "564587465\n",
      "nandu1234@gmail.com\n",
      "Invalid Phone Number\n",
      "friends added Succesfully\n"
     ]
    }
   ],
   "source": [
    "contacts = {\"Nandu\":[58345638456,'nand12312@gmail.com'],\"suresh\":[485763485628,'sure34324@gmail.com'],\"dsfds\":[324634875,'fddfg233@gmail.com']}\n",
    "def addContact(name, phone,email):\n",
    "    if name in contacts:\n",
    "        print(name,\"already exists.\")\n",
    "    else:\n",
    "        if not phoneNumberValidator(phone):\n",
    "            print(\"Invalid Phone Number\")\n",
    "        if not emailValidator(email):\n",
    "            print(\"Invalid email address\")\n",
    "            return\n",
    "        newcontact =[]\n",
    "        newcontact.append(phone)\n",
    "        newcontact.append(email)        \n",
    "        contacts[name]=newcontact        \n",
    "        print(name,\"added Succesfully\")    \n",
    "    return \n",
    "\n",
    "name=input() \n",
    "phone=int(input()) \n",
    "email=input() \n",
    "addContact(name,phone,email)"
   ]
  },
  {
   "cell_type": "code",
   "execution_count": 13,
   "metadata": {},
   "outputs": [
    {
     "name": "stdout",
     "output_type": "stream",
     "text": [
      "Nandu\n",
      "Nandu\n",
      "Phone: 58345638456\n",
      "Email: nand12312@gmail.com\n"
     ]
    }
   ],
   "source": [
    "# def searchContacts(name):\n",
    "#     if name in contacts:\n",
    "#         print(name)\n",
    "#         print(\"Phone :\",contacts[name][0])\n",
    "#         print(\"Email :\",contacts[name][1])\n",
    "#     else:\n",
    "#         print(\"%s does not exits\" % name)\n",
    "#     return \n",
    "# searchContacts(\"Nandini\")\n",
    "def searchContacts(name):    \n",
    "    if name in contacts:        \n",
    "        print(name)        \n",
    "        print(\"Phone:\",contacts[name][0])        \n",
    "        print(\"Email:\",contacts[name][1])    \n",
    "    else:\n",
    "        print(\"%s does not exist\" % name)    \n",
    "        return \n",
    "name=input() \n",
    "searchContacts(name)\n"
   ]
  },
  {
   "cell_type": "code",
   "execution_count": 19,
   "metadata": {},
   "outputs": [
    {
     "name": "stdout",
     "output_type": "stream",
     "text": [
      "nandu\n",
      "chiru\n",
      "346534856\n",
      "45687357\n",
      "2 contacts  added successfully\n"
     ]
    }
   ],
   "source": [
    "# New contacts is given as a dictionary\n",
    "# Merge new contacts with existing contacts\n",
    "\n",
    "def importContacts(newContacts):\n",
    "    contacts.update(newContacts)    \n",
    "    print(len(newContacts.keys()),\"contacts  added successfully\")    \n",
    "    return \n",
    "name2=input() \n",
    "name3=input() \n",
    "phone2=input() \n",
    "phone3=input() \n",
    "newContacts={\"nandini\":[8331063380,'nandu23@domain.ext'],\"name1\":[8331063380,'nam']}\n",
    "importContacts(newContacts)"
   ]
  },
  {
   "cell_type": "code",
   "execution_count": 22,
   "metadata": {},
   "outputs": [
    {
     "data": {
      "text/plain": [
       "{'nandini': [8331063380, 'nandu23@domain.ext'], 'name1': [8331063380, 'nam']}"
      ]
     },
     "execution_count": 22,
     "metadata": {},
     "output_type": "execute_result"
    }
   ],
   "source": [
    "newContacts"
   ]
  },
  {
   "cell_type": "code",
   "execution_count": 23,
   "metadata": {},
   "outputs": [
    {
     "name": "stdout",
     "output_type": "stream",
     "text": [
      "Nandu \n",
      " Phone: 58345638456 \n",
      " Email: nand12312@gmail.com\n"
     ]
    }
   ],
   "source": [
    "def listAllContacts():    \n",
    "    for contact,info in contacts.items():        \n",
    "        print(contact,\"\\n\",\"Phone:\",info[0],\"\\n\",\"Email:\",info[1])    \n",
    "        return \n",
    "listAllContacts()\n"
   ]
  },
  {
   "cell_type": "code",
   "execution_count": 19,
   "metadata": {},
   "outputs": [
    {
     "name": "stdout",
     "output_type": "stream",
     "text": [
      "11 23 29 41 43 47 "
     ]
    }
   ],
   "source": [
    "### Prime Minster's Number\n",
    "def is_prime(n):\n",
    "    c=1\n",
    "    for i in range(2,(n//2)+1):\n",
    "        if(n%i==0):\n",
    "            c=0\n",
    "            return False\n",
    "    if(c==1):\n",
    "        return True\n",
    "    return \n",
    "\n",
    "def primeRange(a,b):\n",
    "   # print(a,b)\n",
    "    for n in range(a,b+1):\n",
    "        #print(n)\n",
    "        if is_prime(n):\n",
    "           # print(n)\n",
    "            s=0\n",
    "            x=n\n",
    "            while(n!=0):\n",
    "                s=s+(n%10)\n",
    "                n=n//10\n",
    "            if is_prime(s):\n",
    "                print(x,end=\" \")\n",
    "    return \n",
    "primeRange(10,50)\n",
    "\n",
    "            "
   ]
  },
  {
   "cell_type": "markdown",
   "metadata": {},
   "source": [
    "### File Handling Python\n",
    "\n",
    "File - Document containing information residing\n",
    "Types - Text, PDF, CSV etc\n",
    "\n",
    "File I/O - Channelling I/O data to files\n",
    "Default I/O channels - Keyboard / Screen\n",
    "\n",
    "Change I/O channel to files for Reading and writing \n",
    "\n",
    "Read a file - Input from file\n",
    "Write to a file - Output to a file \n",
    "\n",
    "Read / write file - open(filename, mode)"
   ]
  },
  {
   "cell_type": "code",
   "execution_count": 107,
   "metadata": {},
   "outputs": [
    {
     "name": "stdout",
     "output_type": "stream",
     "text": [
      "Line1\n",
      "\n",
      "Line2\n",
      "\n",
      "Line3\n",
      "\n"
     ]
    }
   ],
   "source": [
    "def readFile(filename):\n",
    "    f= open(filename, 'r')\n",
    "    filedata = f.read()\n",
    "    f.close()\n",
    "    return (filedata)\n",
    "filename = 'DataFiles/data.txt'\n",
    "filedata=readFile(filename)\n",
    "# for line in filedata.split('\\n'):\n",
    "#     print(line)\n",
    "    \n",
    "    \n",
    "def printFileDataLines(filename):\n",
    "    with open(filename, 'r') as f:\n",
    "        \n",
    "#     f = open(filename, 'r')\n",
    "        for line in f:\n",
    "            print(line)\n",
    "    return \n",
    "printFileDataLines(filename)\n",
    "\n",
    "    \n",
    "    "
   ]
  },
  {
   "cell_type": "code",
   "execution_count": 2,
   "metadata": {},
   "outputs": [],
   "source": [
    "### Function to write data into a file\n",
    "\n",
    "def writeIntoFile(filename, filedata):\n",
    "    with open(filename, 'w') as f:\n",
    "        f.write(filedata)\n",
    "    return \n",
    "filename = 'DataFiles/data.txt'\n",
    "\n",
    "writeIntoFile(filename, \"new data\")"
   ]
  },
  {
   "cell_type": "code",
   "execution_count": 131,
   "metadata": {},
   "outputs": [],
   "source": [
    "## Function to append data to a file\n",
    "\n",
    "def appendDataToFile(filename,filedata):\n",
    "    with open(filename, 'a') as f:\n",
    "        f.write(filedata)\n",
    "    return \n",
    "filedata=\"\\nLine2\\nLine3\"\n",
    "appendDataToFile(filename, filedata)\n"
   ]
  },
  {
   "cell_type": "code",
   "execution_count": null,
   "metadata": {},
   "outputs": [],
   "source": []
  }
 ],
 "metadata": {
  "kernelspec": {
   "display_name": "Python 3",
   "language": "python",
   "name": "python3"
  },
  "language_info": {
   "codemirror_mode": {
    "name": "ipython",
    "version": 3
   },
   "file_extension": ".py",
   "mimetype": "text/x-python",
   "name": "python",
   "nbconvert_exporter": "python",
   "pygments_lexer": "ipython3",
   "version": "3.7.3"
  }
 },
 "nbformat": 4,
 "nbformat_minor": 2
}
